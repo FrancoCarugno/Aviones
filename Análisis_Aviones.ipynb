{
 "cells": [
  {
   "cell_type": "markdown",
   "metadata": {},
   "source": [
    "# Desafío III: Construyendo un Clasificador"
   ]
  },
  {
   "cell_type": "markdown",
   "metadata": {},
   "source": [
    "# 1. Introducción"
   ]
  },
  {
   "cell_type": "markdown",
   "metadata": {},
   "source": [
    "### 1.1. Acerca del Dataset a utilizar"
   ]
  },
  {
   "cell_type": "markdown",
   "metadata": {},
   "source": [
    "Para el presente desafío intentaremos construir un clasificador.\n",
    "Para ello, debemos encontrar primero una problemática que queramos analizar y modelar. Nos pareció interesante focalizar la búsqueda en alguna base de datos que nos permita investigar y desarrollar algún problema típico al que podamos enfrentarnos el día de mañana si nos encontramos desempeñando el rol de Data Scientists en una compañía.\n",
    "\n",
    "Teniendo en cuenta esto, elegimos un dataset que evalúa el grado de satisfacción de los pasajeros de una aerolínea estadounidense.\n",
    "Pueden encontrar dicho dataset así como también la descripción de sus campos en la siguiente ruta: https://www.kaggle.com/teejmahal20/airline-passenger-satisfaction\n",
    "\n",
    "Como veremos enseguida, se trata de una base de 103.904 datos que estudia al consumidor en múltiples aspectos. Creemos que es un relevamiento más que interesante para: \n",
    "- Primero: intentar etiquetar mediante un clasificador a un pasajero por fuera de la muestra. Para ello, utilizaremos los modelos KNN, Regresión Logística y Naive Bayes vistos en clase, así como también otras técnicas estudiadas para la optimización de Hiperparámetros.\n",
    "- Segundo: luego de la aplicación de estos métodos, y teniendo en cuenta el análisis descriptivo previo de las variables, iremos \"jugando\" con las features y estudiaremos cuál/es de ella/s tienen un impacto mayor en el grado de satisfacción del consumidor promedio. \n",
    "\n",
    "Así, nuestra intención no consiste únicamente limitarnos a especificar un modelo de clasificación, sino que además intentaremos ver por dónde está el core del problema para de esta forma poder elevarle a la empresa donde estemos trabajando una propuesta de dónde la compañía tiene que hacer foco para resolver los principales puntos de dolor que tienen los consumidores y que hacen que califiquen su experiencia con la aerolínea como \"neutral/insatisfactoria\". Es por ello que nuestra variable target será la \"marca\" de instatisfacción (haremos dummy la variable \"satisfaction\" y nos quedaremos con la columna que se \"activa\", es decir, que toma valor 1, cuando el pasajero califica su experiencia como neutral/insatisfactoria\").\n",
    "\n",
    "Creemos que esta propuesta de valor nos permitirá añadir un diferencial a la hora de la toma de decisiones basadas en datos.\n"
   ]
  },
  {
   "cell_type": "markdown",
   "metadata": {},
   "source": [
    "### 1.2. Breve descripción de las variables del dataset"
   ]
  },
  {
   "cell_type": "markdown",
   "metadata": {},
   "source": [
    "- Gender: Gender of the passengers (Female, Male)\n",
    "- Customer Type: The customer type (Loyal customer, disloyal customer)\n",
    "- Age: The actual age of the passengers\n",
    "- Type of Travel: Purpose of the flight of the passengers (Personal Travel, Business Travel)\n",
    "- Class: Travel class in the plane of the passengers (Business, Eco, Eco Plus)\n",
    "- Flight distance: The flight distance of this journey\n",
    "- Inflight wifi service: Satisfaction level of the inflight wifi service (0:Not Applicable;1-5)\n",
    "- Departure/Arrival time convenient: Satisfaction level of Departure/Arrival time convenient\n",
    "- Ease of Online booking: Satisfaction level of online booking\n",
    "- Gate location: Satisfaction level of Gate location\n",
    "- Food and drink: Satisfaction level of Food and drink\n",
    "- Online boarding: Satisfaction level of online boarding\n",
    "- Seat comfort: Satisfaction level of Seat comfort\n",
    "- Inflight entertainment: Satisfaction level of inflight entertainment\n",
    "- On-board service: Satisfaction level of On-board service\n",
    "- Leg room service: Satisfaction level of Leg room service\n",
    "- Baggage handling: Satisfaction level of baggage handling\n",
    "- Check-in service: Satisfaction level of Check-in service\n",
    "- Inflight service: Satisfaction level of inflight service\n",
    "- Cleanliness: Satisfaction level of Cleanliness\n",
    "- Departure Delay in Minutes: Minutes delayed when departure\n",
    "- Arrival Delay in Minutes: Minutes delayed when Arrival\n",
    "- Satisfaction: Airline satisfaction level(Satisfaction, neutral or dissatisfaction)"
   ]
  },
  {
   "cell_type": "markdown",
   "metadata": {},
   "source": [
    "### 1.3. Comencemos con lo básico..."
   ]
  },
  {
   "cell_type": "markdown",
   "metadata": {},
   "source": [
    "Importamos librerías para el analisis exploratorio"
   ]
  },
  {
   "cell_type": "code",
   "execution_count": 1,
   "metadata": {},
   "outputs": [],
   "source": [
    "import pandas as pd\n",
    "import numpy as np\n",
    "import funpymodeling as fp\n",
    "import seaborn as sns\n",
    "from matplotlib.colors import ListedColormap\n",
    "import matplotlib.pyplot as plt\n",
    "%matplotlib inline"
   ]
  },
  {
   "cell_type": "markdown",
   "metadata": {},
   "source": [
    "Importamos dataset a utilizar (Kaggle trae ya dividido el dataset en 2: train con 109 mil observaciones -que es el que utilizaremos-, y test, que lo levantamos a continuación pero no lo usaremos, ya que los 109 mil datos creemos que son robustos para estudiarlos por sí mismos):"
   ]
  },
  {
   "cell_type": "code",
   "execution_count": 2,
   "metadata": {},
   "outputs": [],
   "source": [
    "dftrain= pd.read_csv('train.csv', delimiter=\";\")"
   ]
  },
  {
   "cell_type": "markdown",
   "metadata": {},
   "source": [
    "Removemos el campo \"índice\":"
   ]
  },
  {
   "cell_type": "code",
   "execution_count": 3,
   "metadata": {},
   "outputs": [],
   "source": [
    "dftrain = dftrain.drop([\"Unnamed: 0\"], axis=1)"
   ]
  },
  {
   "cell_type": "markdown",
   "metadata": {},
   "source": [
    "Convertimos en dummies las principales variables categóricas para poder incluirlas en el modelo:"
   ]
  },
  {
   "cell_type": "code",
   "execution_count": 4,
   "metadata": {},
   "outputs": [],
   "source": [
    "dftrain = dftrain.join(pd.get_dummies(dftrain.satisfaction, prefix=\"satis\"))"
   ]
  },
  {
   "cell_type": "code",
   "execution_count": 5,
   "metadata": {},
   "outputs": [],
   "source": [
    "dftrain = dftrain.join(pd.get_dummies(dftrain.Gender, prefix=\"gender\", drop_first=True))"
   ]
  },
  {
   "cell_type": "code",
   "execution_count": 6,
   "metadata": {},
   "outputs": [],
   "source": [
    "dftrain = dftrain.join(pd.get_dummies(dftrain[\"Customer Type\"], prefix=\"cliente\",drop_first=True))"
   ]
  },
  {
   "cell_type": "code",
   "execution_count": 7,
   "metadata": {},
   "outputs": [],
   "source": [
    "dftrain = dftrain.join(pd.get_dummies(dftrain[\"Type of Travel\"], prefix=\"viaje\", drop_first=True))"
   ]
  },
  {
   "cell_type": "code",
   "execution_count": 8,
   "metadata": {},
   "outputs": [],
   "source": [
    "dftrain = dftrain.join(pd.get_dummies(dftrain.Class, prefix=\"boleto\", drop_first=True))"
   ]
  },
  {
   "cell_type": "markdown",
   "metadata": {},
   "source": [
    "Observemos cómo queda el dataset provisorio con estas incorporaciones..."
   ]
  },
  {
   "cell_type": "code",
   "execution_count": 9,
   "metadata": {},
   "outputs": [
    {
     "data": {
      "text/html": [
       "<div>\n",
       "<style scoped>\n",
       "    .dataframe tbody tr th:only-of-type {\n",
       "        vertical-align: middle;\n",
       "    }\n",
       "\n",
       "    .dataframe tbody tr th {\n",
       "        vertical-align: top;\n",
       "    }\n",
       "\n",
       "    .dataframe thead th {\n",
       "        text-align: right;\n",
       "    }\n",
       "</style>\n",
       "<table border=\"1\" class=\"dataframe\">\n",
       "  <thead>\n",
       "    <tr style=\"text-align: right;\">\n",
       "      <th></th>\n",
       "      <th>id</th>\n",
       "      <th>Gender</th>\n",
       "      <th>Customer Type</th>\n",
       "      <th>Age</th>\n",
       "      <th>Type of Travel</th>\n",
       "      <th>Class</th>\n",
       "      <th>Flight Distance</th>\n",
       "      <th>Inflight wifi service</th>\n",
       "      <th>Departure/Arrival time convenient</th>\n",
       "      <th>Ease of Online booking</th>\n",
       "      <th>...</th>\n",
       "      <th>Departure Delay in Minutes</th>\n",
       "      <th>Arrival Delay in Minutes</th>\n",
       "      <th>satisfaction</th>\n",
       "      <th>satis_neutral or dissatisfied</th>\n",
       "      <th>satis_satisfied</th>\n",
       "      <th>gender_Male</th>\n",
       "      <th>cliente_disloyal Customer</th>\n",
       "      <th>viaje_Personal Travel</th>\n",
       "      <th>boleto_Eco</th>\n",
       "      <th>boleto_Eco Plus</th>\n",
       "    </tr>\n",
       "  </thead>\n",
       "  <tbody>\n",
       "    <tr>\n",
       "      <th>0</th>\n",
       "      <td>70172</td>\n",
       "      <td>Male</td>\n",
       "      <td>Loyal Customer</td>\n",
       "      <td>13</td>\n",
       "      <td>Personal Travel</td>\n",
       "      <td>Eco Plus</td>\n",
       "      <td>460</td>\n",
       "      <td>3</td>\n",
       "      <td>4</td>\n",
       "      <td>3</td>\n",
       "      <td>...</td>\n",
       "      <td>25</td>\n",
       "      <td>18</td>\n",
       "      <td>neutral or dissatisfied</td>\n",
       "      <td>1</td>\n",
       "      <td>0</td>\n",
       "      <td>1</td>\n",
       "      <td>0</td>\n",
       "      <td>1</td>\n",
       "      <td>0</td>\n",
       "      <td>1</td>\n",
       "    </tr>\n",
       "    <tr>\n",
       "      <th>1</th>\n",
       "      <td>5047</td>\n",
       "      <td>Male</td>\n",
       "      <td>disloyal Customer</td>\n",
       "      <td>25</td>\n",
       "      <td>Business travel</td>\n",
       "      <td>Business</td>\n",
       "      <td>235</td>\n",
       "      <td>3</td>\n",
       "      <td>2</td>\n",
       "      <td>3</td>\n",
       "      <td>...</td>\n",
       "      <td>1</td>\n",
       "      <td>6</td>\n",
       "      <td>neutral or dissatisfied</td>\n",
       "      <td>1</td>\n",
       "      <td>0</td>\n",
       "      <td>1</td>\n",
       "      <td>1</td>\n",
       "      <td>0</td>\n",
       "      <td>0</td>\n",
       "      <td>0</td>\n",
       "    </tr>\n",
       "    <tr>\n",
       "      <th>2</th>\n",
       "      <td>110028</td>\n",
       "      <td>Female</td>\n",
       "      <td>Loyal Customer</td>\n",
       "      <td>26</td>\n",
       "      <td>Business travel</td>\n",
       "      <td>Business</td>\n",
       "      <td>1142</td>\n",
       "      <td>2</td>\n",
       "      <td>2</td>\n",
       "      <td>2</td>\n",
       "      <td>...</td>\n",
       "      <td>0</td>\n",
       "      <td>0</td>\n",
       "      <td>satisfied</td>\n",
       "      <td>0</td>\n",
       "      <td>1</td>\n",
       "      <td>0</td>\n",
       "      <td>0</td>\n",
       "      <td>0</td>\n",
       "      <td>0</td>\n",
       "      <td>0</td>\n",
       "    </tr>\n",
       "    <tr>\n",
       "      <th>3</th>\n",
       "      <td>24026</td>\n",
       "      <td>Female</td>\n",
       "      <td>Loyal Customer</td>\n",
       "      <td>25</td>\n",
       "      <td>Business travel</td>\n",
       "      <td>Business</td>\n",
       "      <td>562</td>\n",
       "      <td>2</td>\n",
       "      <td>5</td>\n",
       "      <td>5</td>\n",
       "      <td>...</td>\n",
       "      <td>11</td>\n",
       "      <td>9</td>\n",
       "      <td>neutral or dissatisfied</td>\n",
       "      <td>1</td>\n",
       "      <td>0</td>\n",
       "      <td>0</td>\n",
       "      <td>0</td>\n",
       "      <td>0</td>\n",
       "      <td>0</td>\n",
       "      <td>0</td>\n",
       "    </tr>\n",
       "    <tr>\n",
       "      <th>4</th>\n",
       "      <td>119299</td>\n",
       "      <td>Male</td>\n",
       "      <td>Loyal Customer</td>\n",
       "      <td>61</td>\n",
       "      <td>Business travel</td>\n",
       "      <td>Business</td>\n",
       "      <td>214</td>\n",
       "      <td>3</td>\n",
       "      <td>3</td>\n",
       "      <td>3</td>\n",
       "      <td>...</td>\n",
       "      <td>0</td>\n",
       "      <td>0</td>\n",
       "      <td>satisfied</td>\n",
       "      <td>0</td>\n",
       "      <td>1</td>\n",
       "      <td>1</td>\n",
       "      <td>0</td>\n",
       "      <td>0</td>\n",
       "      <td>0</td>\n",
       "      <td>0</td>\n",
       "    </tr>\n",
       "  </tbody>\n",
       "</table>\n",
       "<p>5 rows × 31 columns</p>\n",
       "</div>"
      ],
      "text/plain": [
       "       id  Gender      Customer Type  Age   Type of Travel     Class  \\\n",
       "0   70172    Male     Loyal Customer   13  Personal Travel  Eco Plus   \n",
       "1    5047    Male  disloyal Customer   25  Business travel  Business   \n",
       "2  110028  Female     Loyal Customer   26  Business travel  Business   \n",
       "3   24026  Female     Loyal Customer   25  Business travel  Business   \n",
       "4  119299    Male     Loyal Customer   61  Business travel  Business   \n",
       "\n",
       "   Flight Distance  Inflight wifi service  Departure/Arrival time convenient  \\\n",
       "0              460                      3                                  4   \n",
       "1              235                      3                                  2   \n",
       "2             1142                      2                                  2   \n",
       "3              562                      2                                  5   \n",
       "4              214                      3                                  3   \n",
       "\n",
       "   Ease of Online booking  ...  Departure Delay in Minutes  \\\n",
       "0                       3  ...                          25   \n",
       "1                       3  ...                           1   \n",
       "2                       2  ...                           0   \n",
       "3                       5  ...                          11   \n",
       "4                       3  ...                           0   \n",
       "\n",
       "   Arrival Delay in Minutes             satisfaction  \\\n",
       "0                        18  neutral or dissatisfied   \n",
       "1                         6  neutral or dissatisfied   \n",
       "2                         0                satisfied   \n",
       "3                         9  neutral or dissatisfied   \n",
       "4                         0                satisfied   \n",
       "\n",
       "   satis_neutral or dissatisfied  satis_satisfied  gender_Male  \\\n",
       "0                              1                0            1   \n",
       "1                              1                0            1   \n",
       "2                              0                1            0   \n",
       "3                              1                0            0   \n",
       "4                              0                1            1   \n",
       "\n",
       "   cliente_disloyal Customer  viaje_Personal Travel  boleto_Eco  \\\n",
       "0                          0                      1           0   \n",
       "1                          1                      0           0   \n",
       "2                          0                      0           0   \n",
       "3                          0                      0           0   \n",
       "4                          0                      0           0   \n",
       "\n",
       "   boleto_Eco Plus  \n",
       "0                1  \n",
       "1                0  \n",
       "2                0  \n",
       "3                0  \n",
       "4                0  \n",
       "\n",
       "[5 rows x 31 columns]"
      ]
     },
     "execution_count": 9,
     "metadata": {},
     "output_type": "execute_result"
    }
   ],
   "source": [
    "dftrain.head()"
   ]
  },
  {
   "cell_type": "markdown",
   "metadata": {},
   "source": [
    "Asimismo, constetamos el tipo de datos que tenemos y si hay alguna variable que tenga información nula..."
   ]
  },
  {
   "cell_type": "code",
   "execution_count": 10,
   "metadata": {},
   "outputs": [
    {
     "name": "stdout",
     "output_type": "stream",
     "text": [
      "<class 'pandas.core.frame.DataFrame'>\n",
      "RangeIndex: 103904 entries, 0 to 103903\n",
      "Data columns (total 31 columns):\n",
      " #   Column                             Non-Null Count   Dtype \n",
      "---  ------                             --------------   ----- \n",
      " 0   id                                 103904 non-null  int64 \n",
      " 1   Gender                             103904 non-null  object\n",
      " 2   Customer Type                      103904 non-null  object\n",
      " 3   Age                                103904 non-null  int64 \n",
      " 4   Type of Travel                     103904 non-null  object\n",
      " 5   Class                              103904 non-null  object\n",
      " 6   Flight Distance                    103904 non-null  int64 \n",
      " 7   Inflight wifi service              103904 non-null  int64 \n",
      " 8   Departure/Arrival time convenient  103904 non-null  int64 \n",
      " 9   Ease of Online booking             103904 non-null  int64 \n",
      " 10  Gate location                      103904 non-null  int64 \n",
      " 11  Food and drink                     103904 non-null  int64 \n",
      " 12  Online boarding                    103904 non-null  int64 \n",
      " 13  Seat comfort                       103904 non-null  int64 \n",
      " 14  Inflight entertainment             103904 non-null  int64 \n",
      " 15  On-board service                   103904 non-null  int64 \n",
      " 16  Leg room service                   103904 non-null  int64 \n",
      " 17  Baggage handling                   103904 non-null  int64 \n",
      " 18  Checkin service                    103904 non-null  int64 \n",
      " 19  Inflight service                   103904 non-null  int64 \n",
      " 20  Cleanliness                        103904 non-null  int64 \n",
      " 21  Departure Delay in Minutes         103904 non-null  int64 \n",
      " 22  Arrival Delay in Minutes           103904 non-null  int64 \n",
      " 23  satisfaction                       103904 non-null  object\n",
      " 24  satis_neutral or dissatisfied      103904 non-null  uint8 \n",
      " 25  satis_satisfied                    103904 non-null  uint8 \n",
      " 26  gender_Male                        103904 non-null  uint8 \n",
      " 27  cliente_disloyal Customer          103904 non-null  uint8 \n",
      " 28  viaje_Personal Travel              103904 non-null  uint8 \n",
      " 29  boleto_Eco                         103904 non-null  uint8 \n",
      " 30  boleto_Eco Plus                    103904 non-null  uint8 \n",
      "dtypes: int64(19), object(5), uint8(7)\n",
      "memory usage: 19.7+ MB\n"
     ]
    }
   ],
   "source": [
    "dftrain.info()"
   ]
  },
  {
   "cell_type": "markdown",
   "metadata": {},
   "source": [
    "# 2. Análisis Exploratorio: \n",
    "### 2.1. Estudiando las características de los pasajeros insatisfechos"
   ]
  },
  {
   "cell_type": "markdown",
   "metadata": {},
   "source": [
    "Como mencionamos al inicio, además de estimar los modelos de clasificación, buscaremos dar respuesta a la gente encargada de la toma de decisiones en la aerolínea acerca de los principales puntos que debería intentar corregir o mejorar de cara a la experiencia al usuario.\n",
    "\n",
    "Para esto, analizaremos las principales features con las que contamos y su relación con la variable target."
   ]
  },
  {
   "cell_type": "code",
   "execution_count": 11,
   "metadata": {},
   "outputs": [],
   "source": [
    "data = dftrain"
   ]
  },
  {
   "cell_type": "code",
   "execution_count": 12,
   "metadata": {},
   "outputs": [
    {
     "data": {
      "text/html": [
       "<div>\n",
       "<style scoped>\n",
       "    .dataframe tbody tr th:only-of-type {\n",
       "        vertical-align: middle;\n",
       "    }\n",
       "\n",
       "    .dataframe tbody tr th {\n",
       "        vertical-align: top;\n",
       "    }\n",
       "\n",
       "    .dataframe thead th {\n",
       "        text-align: right;\n",
       "    }\n",
       "</style>\n",
       "<table border=\"1\" class=\"dataframe\">\n",
       "  <thead>\n",
       "    <tr style=\"text-align: right;\">\n",
       "      <th></th>\n",
       "      <th>variable</th>\n",
       "      <th>q_nan</th>\n",
       "      <th>p_nan</th>\n",
       "      <th>q_zeros</th>\n",
       "      <th>p_zeros</th>\n",
       "      <th>unique</th>\n",
       "      <th>type</th>\n",
       "    </tr>\n",
       "  </thead>\n",
       "  <tbody>\n",
       "    <tr>\n",
       "      <th>0</th>\n",
       "      <td>id</td>\n",
       "      <td>0</td>\n",
       "      <td>0.0</td>\n",
       "      <td>0</td>\n",
       "      <td>0.000000</td>\n",
       "      <td>103904</td>\n",
       "      <td>int64</td>\n",
       "    </tr>\n",
       "    <tr>\n",
       "      <th>1</th>\n",
       "      <td>Gender</td>\n",
       "      <td>0</td>\n",
       "      <td>0.0</td>\n",
       "      <td>0</td>\n",
       "      <td>0.000000</td>\n",
       "      <td>2</td>\n",
       "      <td>object</td>\n",
       "    </tr>\n",
       "    <tr>\n",
       "      <th>2</th>\n",
       "      <td>Customer Type</td>\n",
       "      <td>0</td>\n",
       "      <td>0.0</td>\n",
       "      <td>0</td>\n",
       "      <td>0.000000</td>\n",
       "      <td>2</td>\n",
       "      <td>object</td>\n",
       "    </tr>\n",
       "    <tr>\n",
       "      <th>3</th>\n",
       "      <td>Age</td>\n",
       "      <td>0</td>\n",
       "      <td>0.0</td>\n",
       "      <td>0</td>\n",
       "      <td>0.000000</td>\n",
       "      <td>75</td>\n",
       "      <td>int64</td>\n",
       "    </tr>\n",
       "    <tr>\n",
       "      <th>4</th>\n",
       "      <td>Type of Travel</td>\n",
       "      <td>0</td>\n",
       "      <td>0.0</td>\n",
       "      <td>0</td>\n",
       "      <td>0.000000</td>\n",
       "      <td>2</td>\n",
       "      <td>object</td>\n",
       "    </tr>\n",
       "    <tr>\n",
       "      <th>5</th>\n",
       "      <td>Class</td>\n",
       "      <td>0</td>\n",
       "      <td>0.0</td>\n",
       "      <td>0</td>\n",
       "      <td>0.000000</td>\n",
       "      <td>3</td>\n",
       "      <td>object</td>\n",
       "    </tr>\n",
       "    <tr>\n",
       "      <th>6</th>\n",
       "      <td>Flight Distance</td>\n",
       "      <td>0</td>\n",
       "      <td>0.0</td>\n",
       "      <td>0</td>\n",
       "      <td>0.000000</td>\n",
       "      <td>3802</td>\n",
       "      <td>int64</td>\n",
       "    </tr>\n",
       "    <tr>\n",
       "      <th>7</th>\n",
       "      <td>Inflight wifi service</td>\n",
       "      <td>0</td>\n",
       "      <td>0.0</td>\n",
       "      <td>3103</td>\n",
       "      <td>0.029864</td>\n",
       "      <td>6</td>\n",
       "      <td>int64</td>\n",
       "    </tr>\n",
       "    <tr>\n",
       "      <th>8</th>\n",
       "      <td>Departure/Arrival time convenient</td>\n",
       "      <td>0</td>\n",
       "      <td>0.0</td>\n",
       "      <td>5300</td>\n",
       "      <td>0.051009</td>\n",
       "      <td>6</td>\n",
       "      <td>int64</td>\n",
       "    </tr>\n",
       "    <tr>\n",
       "      <th>9</th>\n",
       "      <td>Ease of Online booking</td>\n",
       "      <td>0</td>\n",
       "      <td>0.0</td>\n",
       "      <td>4487</td>\n",
       "      <td>0.043184</td>\n",
       "      <td>6</td>\n",
       "      <td>int64</td>\n",
       "    </tr>\n",
       "    <tr>\n",
       "      <th>10</th>\n",
       "      <td>Gate location</td>\n",
       "      <td>0</td>\n",
       "      <td>0.0</td>\n",
       "      <td>1</td>\n",
       "      <td>0.000010</td>\n",
       "      <td>6</td>\n",
       "      <td>int64</td>\n",
       "    </tr>\n",
       "    <tr>\n",
       "      <th>11</th>\n",
       "      <td>Food and drink</td>\n",
       "      <td>0</td>\n",
       "      <td>0.0</td>\n",
       "      <td>107</td>\n",
       "      <td>0.001030</td>\n",
       "      <td>6</td>\n",
       "      <td>int64</td>\n",
       "    </tr>\n",
       "    <tr>\n",
       "      <th>12</th>\n",
       "      <td>Online boarding</td>\n",
       "      <td>0</td>\n",
       "      <td>0.0</td>\n",
       "      <td>2428</td>\n",
       "      <td>0.023368</td>\n",
       "      <td>6</td>\n",
       "      <td>int64</td>\n",
       "    </tr>\n",
       "    <tr>\n",
       "      <th>13</th>\n",
       "      <td>Seat comfort</td>\n",
       "      <td>0</td>\n",
       "      <td>0.0</td>\n",
       "      <td>1</td>\n",
       "      <td>0.000010</td>\n",
       "      <td>6</td>\n",
       "      <td>int64</td>\n",
       "    </tr>\n",
       "    <tr>\n",
       "      <th>14</th>\n",
       "      <td>Inflight entertainment</td>\n",
       "      <td>0</td>\n",
       "      <td>0.0</td>\n",
       "      <td>14</td>\n",
       "      <td>0.000135</td>\n",
       "      <td>6</td>\n",
       "      <td>int64</td>\n",
       "    </tr>\n",
       "    <tr>\n",
       "      <th>15</th>\n",
       "      <td>On-board service</td>\n",
       "      <td>0</td>\n",
       "      <td>0.0</td>\n",
       "      <td>3</td>\n",
       "      <td>0.000029</td>\n",
       "      <td>6</td>\n",
       "      <td>int64</td>\n",
       "    </tr>\n",
       "    <tr>\n",
       "      <th>16</th>\n",
       "      <td>Leg room service</td>\n",
       "      <td>0</td>\n",
       "      <td>0.0</td>\n",
       "      <td>472</td>\n",
       "      <td>0.004543</td>\n",
       "      <td>6</td>\n",
       "      <td>int64</td>\n",
       "    </tr>\n",
       "    <tr>\n",
       "      <th>17</th>\n",
       "      <td>Baggage handling</td>\n",
       "      <td>0</td>\n",
       "      <td>0.0</td>\n",
       "      <td>0</td>\n",
       "      <td>0.000000</td>\n",
       "      <td>5</td>\n",
       "      <td>int64</td>\n",
       "    </tr>\n",
       "    <tr>\n",
       "      <th>18</th>\n",
       "      <td>Checkin service</td>\n",
       "      <td>0</td>\n",
       "      <td>0.0</td>\n",
       "      <td>1</td>\n",
       "      <td>0.000010</td>\n",
       "      <td>6</td>\n",
       "      <td>int64</td>\n",
       "    </tr>\n",
       "    <tr>\n",
       "      <th>19</th>\n",
       "      <td>Inflight service</td>\n",
       "      <td>0</td>\n",
       "      <td>0.0</td>\n",
       "      <td>3</td>\n",
       "      <td>0.000029</td>\n",
       "      <td>6</td>\n",
       "      <td>int64</td>\n",
       "    </tr>\n",
       "    <tr>\n",
       "      <th>20</th>\n",
       "      <td>Cleanliness</td>\n",
       "      <td>0</td>\n",
       "      <td>0.0</td>\n",
       "      <td>12</td>\n",
       "      <td>0.000115</td>\n",
       "      <td>6</td>\n",
       "      <td>int64</td>\n",
       "    </tr>\n",
       "    <tr>\n",
       "      <th>21</th>\n",
       "      <td>Departure Delay in Minutes</td>\n",
       "      <td>0</td>\n",
       "      <td>0.0</td>\n",
       "      <td>58668</td>\n",
       "      <td>0.564637</td>\n",
       "      <td>446</td>\n",
       "      <td>int64</td>\n",
       "    </tr>\n",
       "    <tr>\n",
       "      <th>22</th>\n",
       "      <td>Arrival Delay in Minutes</td>\n",
       "      <td>0</td>\n",
       "      <td>0.0</td>\n",
       "      <td>58469</td>\n",
       "      <td>0.562721</td>\n",
       "      <td>455</td>\n",
       "      <td>int64</td>\n",
       "    </tr>\n",
       "    <tr>\n",
       "      <th>23</th>\n",
       "      <td>satisfaction</td>\n",
       "      <td>0</td>\n",
       "      <td>0.0</td>\n",
       "      <td>0</td>\n",
       "      <td>0.000000</td>\n",
       "      <td>2</td>\n",
       "      <td>object</td>\n",
       "    </tr>\n",
       "    <tr>\n",
       "      <th>24</th>\n",
       "      <td>satis_neutral or dissatisfied</td>\n",
       "      <td>0</td>\n",
       "      <td>0.0</td>\n",
       "      <td>45025</td>\n",
       "      <td>0.433333</td>\n",
       "      <td>2</td>\n",
       "      <td>uint8</td>\n",
       "    </tr>\n",
       "    <tr>\n",
       "      <th>25</th>\n",
       "      <td>satis_satisfied</td>\n",
       "      <td>0</td>\n",
       "      <td>0.0</td>\n",
       "      <td>58879</td>\n",
       "      <td>0.566667</td>\n",
       "      <td>2</td>\n",
       "      <td>uint8</td>\n",
       "    </tr>\n",
       "    <tr>\n",
       "      <th>26</th>\n",
       "      <td>gender_Male</td>\n",
       "      <td>0</td>\n",
       "      <td>0.0</td>\n",
       "      <td>52727</td>\n",
       "      <td>0.507459</td>\n",
       "      <td>2</td>\n",
       "      <td>uint8</td>\n",
       "    </tr>\n",
       "    <tr>\n",
       "      <th>27</th>\n",
       "      <td>cliente_disloyal Customer</td>\n",
       "      <td>0</td>\n",
       "      <td>0.0</td>\n",
       "      <td>84923</td>\n",
       "      <td>0.817322</td>\n",
       "      <td>2</td>\n",
       "      <td>uint8</td>\n",
       "    </tr>\n",
       "    <tr>\n",
       "      <th>28</th>\n",
       "      <td>viaje_Personal Travel</td>\n",
       "      <td>0</td>\n",
       "      <td>0.0</td>\n",
       "      <td>71655</td>\n",
       "      <td>0.689627</td>\n",
       "      <td>2</td>\n",
       "      <td>uint8</td>\n",
       "    </tr>\n",
       "    <tr>\n",
       "      <th>29</th>\n",
       "      <td>boleto_Eco</td>\n",
       "      <td>0</td>\n",
       "      <td>0.0</td>\n",
       "      <td>57159</td>\n",
       "      <td>0.550114</td>\n",
       "      <td>2</td>\n",
       "      <td>uint8</td>\n",
       "    </tr>\n",
       "    <tr>\n",
       "      <th>30</th>\n",
       "      <td>boleto_Eco Plus</td>\n",
       "      <td>0</td>\n",
       "      <td>0.0</td>\n",
       "      <td>96410</td>\n",
       "      <td>0.927876</td>\n",
       "      <td>2</td>\n",
       "      <td>uint8</td>\n",
       "    </tr>\n",
       "  </tbody>\n",
       "</table>\n",
       "</div>"
      ],
      "text/plain": [
       "                             variable  q_nan  p_nan  q_zeros   p_zeros  \\\n",
       "0                                  id      0    0.0        0  0.000000   \n",
       "1                              Gender      0    0.0        0  0.000000   \n",
       "2                       Customer Type      0    0.0        0  0.000000   \n",
       "3                                 Age      0    0.0        0  0.000000   \n",
       "4                      Type of Travel      0    0.0        0  0.000000   \n",
       "5                               Class      0    0.0        0  0.000000   \n",
       "6                     Flight Distance      0    0.0        0  0.000000   \n",
       "7               Inflight wifi service      0    0.0     3103  0.029864   \n",
       "8   Departure/Arrival time convenient      0    0.0     5300  0.051009   \n",
       "9              Ease of Online booking      0    0.0     4487  0.043184   \n",
       "10                      Gate location      0    0.0        1  0.000010   \n",
       "11                     Food and drink      0    0.0      107  0.001030   \n",
       "12                    Online boarding      0    0.0     2428  0.023368   \n",
       "13                       Seat comfort      0    0.0        1  0.000010   \n",
       "14             Inflight entertainment      0    0.0       14  0.000135   \n",
       "15                   On-board service      0    0.0        3  0.000029   \n",
       "16                   Leg room service      0    0.0      472  0.004543   \n",
       "17                   Baggage handling      0    0.0        0  0.000000   \n",
       "18                    Checkin service      0    0.0        1  0.000010   \n",
       "19                   Inflight service      0    0.0        3  0.000029   \n",
       "20                        Cleanliness      0    0.0       12  0.000115   \n",
       "21         Departure Delay in Minutes      0    0.0    58668  0.564637   \n",
       "22           Arrival Delay in Minutes      0    0.0    58469  0.562721   \n",
       "23                       satisfaction      0    0.0        0  0.000000   \n",
       "24      satis_neutral or dissatisfied      0    0.0    45025  0.433333   \n",
       "25                    satis_satisfied      0    0.0    58879  0.566667   \n",
       "26                        gender_Male      0    0.0    52727  0.507459   \n",
       "27          cliente_disloyal Customer      0    0.0    84923  0.817322   \n",
       "28              viaje_Personal Travel      0    0.0    71655  0.689627   \n",
       "29                         boleto_Eco      0    0.0    57159  0.550114   \n",
       "30                    boleto_Eco Plus      0    0.0    96410  0.927876   \n",
       "\n",
       "    unique    type  \n",
       "0   103904   int64  \n",
       "1        2  object  \n",
       "2        2  object  \n",
       "3       75   int64  \n",
       "4        2  object  \n",
       "5        3  object  \n",
       "6     3802   int64  \n",
       "7        6   int64  \n",
       "8        6   int64  \n",
       "9        6   int64  \n",
       "10       6   int64  \n",
       "11       6   int64  \n",
       "12       6   int64  \n",
       "13       6   int64  \n",
       "14       6   int64  \n",
       "15       6   int64  \n",
       "16       6   int64  \n",
       "17       5   int64  \n",
       "18       6   int64  \n",
       "19       6   int64  \n",
       "20       6   int64  \n",
       "21     446   int64  \n",
       "22     455   int64  \n",
       "23       2  object  \n",
       "24       2   uint8  \n",
       "25       2   uint8  \n",
       "26       2   uint8  \n",
       "27       2   uint8  \n",
       "28       2   uint8  \n",
       "29       2   uint8  \n",
       "30       2   uint8  "
      ]
     },
     "execution_count": 12,
     "metadata": {},
     "output_type": "execute_result"
    }
   ],
   "source": [
    "fp.status(data)"
   ]
  },
  {
   "cell_type": "markdown",
   "metadata": {},
   "source": [
    "Para poder entender mejor, vamos a graficar las variables cuantitativas para ver su respectivo comportamiento. "
   ]
  },
  {
   "cell_type": "code",
   "execution_count": 13,
   "metadata": {},
   "outputs": [
    {
     "data": {
      "image/png": "[encoded data removed]",
      "text/plain": [
       "<Figure size 1080x1080 with 30 Axes>"
      ]
     },
     "metadata": {
      "needs_background": "light"
     },
     "output_type": "display_data"
    }
   ],
   "source": [
    "data.hist(figsize=(15,15)) \n",
    "plt.tight_layout()\n",
    "plt.show()"
   ]
  },
  {
   "cell_type": "markdown",
   "metadata": {},
   "source": [
    "#### Vamos a separar aquellas variables cuantitativas de las cualitativas, para optmizar a posterior el análisis."
   ]
  },
  {
   "cell_type": "code",
   "execution_count": 14,
   "metadata": {},
   "outputs": [],
   "source": [
    "cat_col= [col for col in data.columns if data[col].dtype == \"object\"]\n",
    "num_col= [col for col in data.columns if data[col].dtype != \"object\"]"
   ]
  },
  {
   "cell_type": "markdown",
   "metadata": {},
   "source": [
    "### 2.1.1. Análisis de variables cuantitativas"
   ]
  },
  {
   "cell_type": "code",
   "execution_count": 15,
   "metadata": {},
   "outputs": [],
   "source": [
    "num_sin_id=fp.num_vars(data,[\"id\"])"
   ]
  },
  {
   "cell_type": "code",
   "execution_count": null,
   "metadata": {},
   "outputs": [],
   "source": [
    "fp.profiling_num(data[num_sin_id])"
   ]
  },
  {
   "cell_type": "code",
   "execution_count": null,
   "metadata": {},
   "outputs": [],
   "source": [
    "data[num_sin_id].corr()"
   ]
  },
  {
   "cell_type": "markdown",
   "metadata": {},
   "source": [
    "### 2.1.2. Análisis de variables categóricas"
   ]
  },
  {
   "cell_type": "markdown",
   "metadata": {},
   "source": [
    "Para poder identificar la representatividad y ocurrencia de las distintas categorías de las mismas y ver cómo se distribuyen:"
   ]
  },
  {
   "cell_type": "code",
   "execution_count": 18,
   "metadata": {},
   "outputs": [
    {
     "ename": "NameError",
     "evalue": "name 'fp' is not defined",
     "output_type": "error",
     "traceback": [
      "\u001b[1;31m---------------------------------------------------------------------------\u001b[0m",
      "\u001b[1;31mNameError\u001b[0m                                 Traceback (most recent call last)",
      "\u001b[1;32m<ipython-input-18-fa8a23cd8e18>\u001b[0m in \u001b[0;36m<module>\u001b[1;34m\u001b[0m\n\u001b[1;32m----> 1\u001b[1;33m \u001b[0mfp\u001b[0m\u001b[1;33m.\u001b[0m\u001b[0mfreq_tbl\u001b[0m\u001b[1;33m(\u001b[0m\u001b[0mdata\u001b[0m\u001b[1;33m)\u001b[0m\u001b[1;33m\u001b[0m\u001b[1;33m\u001b[0m\u001b[0m\n\u001b[0m",
      "\u001b[1;31mNameError\u001b[0m: name 'fp' is not defined"
     ]
    }
   ],
   "source": [
    "fp.freq_tbl(data)"
   ]
  },
  {
   "cell_type": "markdown",
   "metadata": {},
   "source": [
    "### 2.1.3. Análisis de la variable target"
   ]
  },
  {
   "cell_type": "markdown",
   "metadata": {},
   "source": [
    "Observemos también cómo están distribuidas las etiquetas del campo satisfacción...\n",
    "Vemos que las observaciones están bastante equitativas. \n",
    "\n",
    "No existe una categoría que domine necesariamente la muestra, por lo cual de aquí en adelante no creemos necesario utilizar la opción \"stratify\" a la hora de modelar, preferimos trabajar con los datos puros de la muestra."
   ]
  },
  {
   "cell_type": "code",
   "execution_count": 19,
   "metadata": {},
   "outputs": [
    {
     "data": {
      "text/plain": [
       "neutral or dissatisfied    0.566667\n",
       "satisfied                  0.433333\n",
       "Name: satisfaction, dtype: float64"
      ]
     },
     "execution_count": 19,
     "metadata": {},
     "output_type": "execute_result"
    }
   ],
   "source": [
    "data.satisfaction.value_counts(normalize=True)"
   ]
  },
  {
   "cell_type": "markdown",
   "metadata": {},
   "source": [
    "También podemos ver cómo se distribuyen dentro del dataset otras variables que pueden ser relevantes a la hora de definir la satisfacción agregada del cliente para con la aerolínea.\n",
    "\n",
    "Consideremos esta parte como un breve análisis exploratorio preliminar para ver si podemos hacer alguna detección temprana de algo que nos llame la atención..."
   ]
  },
  {
   "cell_type": "code",
   "execution_count": 20,
   "metadata": {},
   "outputs": [
    {
     "data": {
      "text/plain": [
       "Business    0.477989\n",
       "Eco         0.449886\n",
       "Eco Plus    0.072124\n",
       "Name: Class, dtype: float64"
      ]
     },
     "execution_count": 20,
     "metadata": {},
     "output_type": "execute_result"
    }
   ],
   "source": [
    "data.Class.value_counts(normalize=True)"
   ]
  },
  {
   "cell_type": "markdown",
   "metadata": {},
   "source": [
    "Veamos la variable target previo a hacerla dummy en función del tipo de clase del boleto de avión:"
   ]
  },
  {
   "cell_type": "code",
   "execution_count": 21,
   "metadata": {},
   "outputs": [
    {
     "data": {
      "text/plain": [
       "<AxesSubplot:xlabel='satisfaction', ylabel='count'>"
      ]
     },
     "execution_count": 21,
     "metadata": {},
     "output_type": "execute_result"
    },
    {
     "data": {
      "image/png": "[encoded data removed]",
      "text/plain": [
       "<Figure size 432x288 with 1 Axes>"
      ]
     },
     "metadata": {
      "needs_background": "light"
     },
     "output_type": "display_data"
    }
   ],
   "source": [
    "sns.countplot(x=\"satisfaction\",hue= \"Class\",data=data)"
   ]
  },
  {
   "cell_type": "code",
   "execution_count": 22,
   "metadata": {},
   "outputs": [],
   "source": [
    "#sns.countplot(x=\"satisfaction\",hue= \"GENERO\",data=data)\n",
    "#sns.countplot(x=\"satisfaction\",hue= \"RANGO EDAD\",data=data)"
   ]
  },
  {
   "cell_type": "markdown",
   "metadata": {},
   "source": [
    "Podría ser interesante categorizar la distancia de los vuelos en \"Corta\", \"Media\" y \"Larga\"... a continuación lo hacemos y más adelante quizás lo utilicemos."
   ]
  },
  {
   "cell_type": "code",
   "execution_count": 23,
   "metadata": {},
   "outputs": [
    {
     "data": {
      "text/plain": [
       "count    103904.000000\n",
       "mean       1189.448375\n",
       "std         997.147281\n",
       "min          31.000000\n",
       "25%         414.000000\n",
       "50%         843.000000\n",
       "75%        1743.000000\n",
       "max        4983.000000\n",
       "Name: Flight Distance, dtype: float64"
      ]
     },
     "execution_count": 23,
     "metadata": {},
     "output_type": "execute_result"
    }
   ],
   "source": [
    "dftrain[\"Flight Distance\"].describe()"
   ]
  },
  {
   "cell_type": "code",
   "execution_count": 24,
   "metadata": {},
   "outputs": [],
   "source": [
    "duracion = dftrain[\"Flight Distance\"].apply(lambda x:  \"C\" if x <= 500 else(\"M\" if x <= 1400 else \"L\"))"
   ]
  },
  {
   "cell_type": "code",
   "execution_count": 25,
   "metadata": {},
   "outputs": [],
   "source": [
    "duracion = duracion.rename(\"duracion\")"
   ]
  },
  {
   "cell_type": "code",
   "execution_count": 26,
   "metadata": {},
   "outputs": [],
   "source": [
    "dftrain=pd.concat([dftrain,duracion], axis=1)"
   ]
  },
  {
   "cell_type": "markdown",
   "metadata": {},
   "source": [
    "Vamos a ver ahora las correlaciones iniciales que tenemos únicamente para la variable target: \n",
    "\n",
    "La Dummy de Satisfaction que se \"activa\" (es decir, toma valor 1) cuando el pasajero califica su experiencia como \"neutral/insatisfactoria\".\n",
    "\n",
    "Esta será de aquí en más la variable a explicar o a clasificar."
   ]
  },
  {
   "cell_type": "code",
   "execution_count": 27,
   "metadata": {},
   "outputs": [
    {
     "data": {
      "text/plain": [
       "<AxesSubplot:>"
      ]
     },
     "execution_count": 27,
     "metadata": {},
     "output_type": "execute_result"
    },
    {
     "data": {
      "image/png": "[encoded data removed]",
      "text/plain": [
       "<Figure size 576x864 with 2 Axes>"
      ]
     },
     "metadata": {
      "needs_background": "light"
     },
     "output_type": "display_data"
    }
   ],
   "source": [
    "plt.figure(figsize=(8,12))\n",
    "sns.heatmap(dftrain.corr()[[\"satis_neutral or dissatisfied\"]], annot=True, cmap=\"Blues\")"
   ]
  },
  {
   "cell_type": "markdown",
   "metadata": {},
   "source": [
    "### 2.1.4. Procesamiento y análisis de otras variables"
   ]
  },
  {
   "cell_type": "markdown",
   "metadata": {},
   "source": [
    "Trabajemos con la variable \"age\". La idea será discretizarla para poder segmentar y lograr identificar aquel nicho con mayor grado de satisfacción."
   ]
  },
  {
   "cell_type": "code",
   "execution_count": 28,
   "metadata": {},
   "outputs": [
    {
     "data": {
      "text/plain": [
       "count    103904.000000\n",
       "mean         39.379706\n",
       "std          15.114964\n",
       "min           7.000000\n",
       "25%          27.000000\n",
       "50%          40.000000\n",
       "75%          51.000000\n",
       "max          85.000000\n",
       "Name: Age, dtype: float64"
      ]
     },
     "execution_count": 28,
     "metadata": {},
     "output_type": "execute_result"
    }
   ],
   "source": [
    "data.Age.describe()"
   ]
  },
  {
   "cell_type": "code",
   "execution_count": 29,
   "metadata": {},
   "outputs": [],
   "source": [
    "data[\"RANGO EDAD\"]= data.Age.apply(lambda x: \"1-18\" if x <= 18 \n",
    "                                   else (\"18-30\" if x <= 30 \n",
    "                                   else(\"30-50\" if x <= 50 \n",
    "                                    else(\"50-70\" if x <= 70\n",
    "                                    else \"70 o más\"))))"
   ]
  },
  {
   "cell_type": "markdown",
   "metadata": {},
   "source": [
    "Trabejamos ahora con la variable \"Flight Distance\" para aprovechar la información de la misma."
   ]
  },
  {
   "cell_type": "code",
   "execution_count": 30,
   "metadata": {},
   "outputs": [
    {
     "ename": "NameError",
     "evalue": "name 'fp' is not defined",
     "output_type": "error",
     "traceback": [
      "\u001b[1;31m---------------------------------------------------------------------------\u001b[0m",
      "\u001b[1;31mNameError\u001b[0m                                 Traceback (most recent call last)",
      "\u001b[1;32m<ipython-input-30-8bd5ac8cdd42>\u001b[0m in \u001b[0;36m<module>\u001b[1;34m\u001b[0m\n\u001b[1;32m----> 1\u001b[1;33m \u001b[0mfp\u001b[0m\u001b[1;33m.\u001b[0m\u001b[0mprofiling_num\u001b[0m\u001b[1;33m(\u001b[0m\u001b[0mdata\u001b[0m\u001b[1;33m[\u001b[0m\u001b[1;34m\"Flight Distance\"\u001b[0m\u001b[1;33m]\u001b[0m\u001b[1;33m)\u001b[0m\u001b[1;33m\u001b[0m\u001b[1;33m\u001b[0m\u001b[0m\n\u001b[0m",
      "\u001b[1;31mNameError\u001b[0m: name 'fp' is not defined"
     ]
    }
   ],
   "source": [
    "fp.profiling_num(data[\"Flight Distance\"])"
   ]
  },
  {
   "cell_type": "code",
   "execution_count": 31,
   "metadata": {},
   "outputs": [
    {
     "data": {
      "text/plain": [
       "count    103904.000000\n",
       "mean       1189.448375\n",
       "std         997.147281\n",
       "min          31.000000\n",
       "25%         414.000000\n",
       "50%         843.000000\n",
       "75%        1743.000000\n",
       "max        4983.000000\n",
       "Name: Flight Distance, dtype: float64"
      ]
     },
     "execution_count": 31,
     "metadata": {},
     "output_type": "execute_result"
    }
   ],
   "source": [
    "data[\"Flight Distance\"].describe()"
   ]
  },
  {
   "cell_type": "markdown",
   "metadata": {},
   "source": [
    "Veamos cómo se distribuyen la distancia, las distintas clases y el tipo de viaje con una pivot table...\n",
    "\n"
   ]
  },
  {
   "cell_type": "code",
   "execution_count": 32,
   "metadata": {},
   "outputs": [
    {
     "data": {
      "text/html": [
       "<div>\n",
       "<style scoped>\n",
       "    .dataframe tbody tr th:only-of-type {\n",
       "        vertical-align: middle;\n",
       "    }\n",
       "\n",
       "    .dataframe tbody tr th {\n",
       "        vertical-align: top;\n",
       "    }\n",
       "\n",
       "    .dataframe thead tr th {\n",
       "        text-align: left;\n",
       "    }\n",
       "\n",
       "    .dataframe thead tr:last-of-type th {\n",
       "        text-align: right;\n",
       "    }\n",
       "</style>\n",
       "<table border=\"1\" class=\"dataframe\">\n",
       "  <thead>\n",
       "    <tr>\n",
       "      <th></th>\n",
       "      <th colspan=\"3\" halign=\"left\">mean</th>\n",
       "    </tr>\n",
       "    <tr>\n",
       "      <th></th>\n",
       "      <th colspan=\"3\" halign=\"left\">Flight Distance</th>\n",
       "    </tr>\n",
       "    <tr>\n",
       "      <th>Type of Travel</th>\n",
       "      <th>Business travel</th>\n",
       "      <th>Personal Travel</th>\n",
       "      <th>All</th>\n",
       "    </tr>\n",
       "    <tr>\n",
       "      <th>Class</th>\n",
       "      <th></th>\n",
       "      <th></th>\n",
       "      <th></th>\n",
       "    </tr>\n",
       "  </thead>\n",
       "  <tbody>\n",
       "    <tr>\n",
       "      <th>Business</th>\n",
       "      <td>1714.857392</td>\n",
       "      <td>819.633287</td>\n",
       "      <td>1675.976925</td>\n",
       "    </tr>\n",
       "    <tr>\n",
       "      <th>Eco</th>\n",
       "      <td>682.800267</td>\n",
       "      <td>789.814482</td>\n",
       "      <td>743.439748</td>\n",
       "    </tr>\n",
       "    <tr>\n",
       "      <th>Eco Plus</th>\n",
       "      <td>705.319280</td>\n",
       "      <td>792.249445</td>\n",
       "      <td>747.125567</td>\n",
       "    </tr>\n",
       "    <tr>\n",
       "      <th>All</th>\n",
       "      <td>1368.287237</td>\n",
       "      <td>792.081057</td>\n",
       "      <td>1189.448375</td>\n",
       "    </tr>\n",
       "  </tbody>\n",
       "</table>\n",
       "</div>"
      ],
      "text/plain": [
       "                          mean                             \n",
       "               Flight Distance                             \n",
       "Type of Travel Business travel Personal Travel          All\n",
       "Class                                                      \n",
       "Business           1714.857392      819.633287  1675.976925\n",
       "Eco                 682.800267      789.814482   743.439748\n",
       "Eco Plus            705.319280      792.249445   747.125567\n",
       "All                1368.287237      792.081057  1189.448375"
      ]
     },
     "execution_count": 32,
     "metadata": {},
     "output_type": "execute_result"
    }
   ],
   "source": [
    "pivot_distancia_y_clase=data.pivot_table(values=[\"Flight Distance\"], columns=[\"Type of Travel\"],index=[\"Class\"], aggfunc=[\"mean\"], margins=True)\n",
    "pivot_distancia_y_clase"
   ]
  },
  {
   "cell_type": "code",
   "execution_count": 33,
   "metadata": {},
   "outputs": [
    {
     "data": {
      "text/plain": [
       "<Figure size 720x720 with 0 Axes>"
      ]
     },
     "metadata": {},
     "output_type": "display_data"
    },
    {
     "data": {
      "image/png": "[encoded data removed]",
      "text/plain": [
       "<Figure size 432x288 with 1 Axes>"
      ]
     },
     "metadata": {
      "needs_background": "light"
     },
     "output_type": "display_data"
    }
   ],
   "source": [
    "plt.figure(figsize=(10,10))\n",
    "pivot_distancia_y_clase.plot(kind=\"bar\");"
   ]
  },
  {
   "cell_type": "markdown",
   "metadata": {},
   "source": [
    "Ahora trabajamos sobre aquellas variables asociadas con el tiempo.\n",
    "Vamos a transformarlas en dummie para poder categorizar aquellos vuelos que llegan tarde con los que no."
   ]
  },
  {
   "cell_type": "code",
   "execution_count": 34,
   "metadata": {},
   "outputs": [
    {
     "ename": "NameError",
     "evalue": "name 'fp' is not defined",
     "output_type": "error",
     "traceback": [
      "\u001b[1;31m---------------------------------------------------------------------------\u001b[0m",
      "\u001b[1;31mNameError\u001b[0m                                 Traceback (most recent call last)",
      "\u001b[1;32m<ipython-input-34-86676404aca1>\u001b[0m in \u001b[0;36m<module>\u001b[1;34m\u001b[0m\n\u001b[1;32m----> 1\u001b[1;33m \u001b[0mfp\u001b[0m\u001b[1;33m.\u001b[0m\u001b[0mprofiling_num\u001b[0m\u001b[1;33m(\u001b[0m\u001b[0mdata\u001b[0m\u001b[1;33m[\u001b[0m\u001b[1;33m[\u001b[0m\u001b[1;34m'Departure Delay in Minutes'\u001b[0m\u001b[1;33m,\u001b[0m \u001b[1;34m'Arrival Delay in Minutes'\u001b[0m\u001b[1;33m]\u001b[0m\u001b[1;33m]\u001b[0m\u001b[1;33m)\u001b[0m\u001b[1;33m\u001b[0m\u001b[1;33m\u001b[0m\u001b[0m\n\u001b[0m",
      "\u001b[1;31mNameError\u001b[0m: name 'fp' is not defined"
     ]
    }
   ],
   "source": [
    "fp.profiling_num(data[['Departure Delay in Minutes', 'Arrival Delay in Minutes']])"
   ]
  },
  {
   "cell_type": "code",
   "execution_count": 35,
   "metadata": {},
   "outputs": [
    {
     "data": {
      "text/plain": [
       "Departure Delay in Minutes    1592\n",
       "Arrival Delay in Minutes      1584\n",
       "dtype: int64"
      ]
     },
     "execution_count": 35,
     "metadata": {},
     "output_type": "execute_result"
    }
   ],
   "source": [
    "data[['Departure Delay in Minutes', 'Arrival Delay in Minutes']].max()"
   ]
  },
  {
   "cell_type": "markdown",
   "metadata": {},
   "source": [
    "Vamos a discretizar las variables asociadas con el tiempo. Podriamos ver si influye más la demora en la llegada o en la salida."
   ]
  },
  {
   "cell_type": "code",
   "execution_count": 36,
   "metadata": {},
   "outputs": [
    {
     "data": {
      "text/html": [
       "<div>\n",
       "<style scoped>\n",
       "    .dataframe tbody tr th:only-of-type {\n",
       "        vertical-align: middle;\n",
       "    }\n",
       "\n",
       "    .dataframe tbody tr th {\n",
       "        vertical-align: top;\n",
       "    }\n",
       "\n",
       "    .dataframe thead th {\n",
       "        text-align: right;\n",
       "    }\n",
       "</style>\n",
       "<table border=\"1\" class=\"dataframe\">\n",
       "  <thead>\n",
       "    <tr style=\"text-align: right;\">\n",
       "      <th></th>\n",
       "      <th>Departure Delay in Minutes</th>\n",
       "      <th>Arrival Delay in Minutes</th>\n",
       "    </tr>\n",
       "  </thead>\n",
       "  <tbody>\n",
       "    <tr>\n",
       "      <th>count</th>\n",
       "      <td>103904.000000</td>\n",
       "      <td>103904.000000</td>\n",
       "    </tr>\n",
       "    <tr>\n",
       "      <th>mean</th>\n",
       "      <td>14.815618</td>\n",
       "      <td>15.133392</td>\n",
       "    </tr>\n",
       "    <tr>\n",
       "      <th>std</th>\n",
       "      <td>38.230901</td>\n",
       "      <td>38.649776</td>\n",
       "    </tr>\n",
       "    <tr>\n",
       "      <th>min</th>\n",
       "      <td>0.000000</td>\n",
       "      <td>0.000000</td>\n",
       "    </tr>\n",
       "    <tr>\n",
       "      <th>25%</th>\n",
       "      <td>0.000000</td>\n",
       "      <td>0.000000</td>\n",
       "    </tr>\n",
       "    <tr>\n",
       "      <th>50%</th>\n",
       "      <td>0.000000</td>\n",
       "      <td>0.000000</td>\n",
       "    </tr>\n",
       "    <tr>\n",
       "      <th>75%</th>\n",
       "      <td>12.000000</td>\n",
       "      <td>13.000000</td>\n",
       "    </tr>\n",
       "    <tr>\n",
       "      <th>max</th>\n",
       "      <td>1592.000000</td>\n",
       "      <td>1584.000000</td>\n",
       "    </tr>\n",
       "  </tbody>\n",
       "</table>\n",
       "</div>"
      ],
      "text/plain": [
       "       Departure Delay in Minutes  Arrival Delay in Minutes\n",
       "count               103904.000000             103904.000000\n",
       "mean                    14.815618                 15.133392\n",
       "std                     38.230901                 38.649776\n",
       "min                      0.000000                  0.000000\n",
       "25%                      0.000000                  0.000000\n",
       "50%                      0.000000                  0.000000\n",
       "75%                     12.000000                 13.000000\n",
       "max                   1592.000000               1584.000000"
      ]
     },
     "execution_count": 36,
     "metadata": {},
     "output_type": "execute_result"
    }
   ],
   "source": [
    "data[['Departure Delay in Minutes', 'Arrival Delay in Minutes']].describe()"
   ]
  },
  {
   "cell_type": "markdown",
   "metadata": {},
   "source": [
    "Observemos gráficamente su distribución para entender su comportamiento:"
   ]
  },
  {
   "cell_type": "code",
   "execution_count": 37,
   "metadata": {},
   "outputs": [
    {
     "data": {
      "image/png": "[encoded data removed]",
      "text/plain": [
       "<Figure size 432x288 with 2 Axes>"
      ]
     },
     "metadata": {
      "needs_background": "light"
     },
     "output_type": "display_data"
    }
   ],
   "source": [
    "data[['Departure Delay in Minutes', 'Arrival Delay in Minutes']].hist();"
   ]
  },
  {
   "cell_type": "markdown",
   "metadata": {},
   "source": [
    "Clasificamos y categorizamos las variables vinculadas al tiempo para poder entender mejor la insatisfacción de los clientes.\n",
    "\n",
    "Calculamos la demora total teniendo en cuenta tanto la demora en la salida del avion como en la llegada."
   ]
  },
  {
   "cell_type": "code",
   "execution_count": 38,
   "metadata": {},
   "outputs": [],
   "source": [
    "data[\"Tiempo Demora Total\"]=data.apply(lambda x: \"Sin demora\" if (x[\"Departure Delay in Minutes\"] and x[\"Arrival Delay in Minutes\"] == 0) \n",
    "           else(\"30min o menos\" if (x[\"Departure Delay in Minutes\"] and x[\"Arrival Delay in Minutes\"] <=30) \n",
    "            else \"30min - 1hs\" if (x[\"Departure Delay in Minutes\"] and x[\"Arrival Delay in Minutes\"] <= 60)\n",
    "            else \"1 hs o más\"), axis=1)"
   ]
  },
  {
   "cell_type": "code",
   "execution_count": 39,
   "metadata": {},
   "outputs": [
    {
     "data": {
      "text/plain": [
       "1 hs o más       65940\n",
       "30min o menos    20198\n",
       "Sin demora       10894\n",
       "30min - 1hs       6872\n",
       "Name: Tiempo Demora Total, dtype: int64"
      ]
     },
     "execution_count": 39,
     "metadata": {},
     "output_type": "execute_result"
    }
   ],
   "source": [
    "data[\"Tiempo Demora Total\"].value_counts()"
   ]
  },
  {
   "cell_type": "markdown",
   "metadata": {},
   "source": [
    "Segmentamos la demora de la \"salida\" de los aviones:"
   ]
  },
  {
   "cell_type": "code",
   "execution_count": 40,
   "metadata": {},
   "outputs": [],
   "source": [
    "data[\"Tiempo Demora Salida\"]=data.apply(lambda x: \"Sin demora\" if (x[\"Departure Delay in Minutes\"] == 0) \n",
    "           else(\"30min o menos\" if (x[\"Departure Delay in Minutes\"] <=30) \n",
    "            else \"30min - 1hs\" if (x[\"Departure Delay in Minutes\"] <= 60)\n",
    "            else \"1 hs o más\"), axis=1)"
   ]
  },
  {
   "cell_type": "code",
   "execution_count": 41,
   "metadata": {},
   "outputs": [
    {
     "data": {
      "text/plain": [
       "Sin demora       58668\n",
       "30min o menos    30707\n",
       "30min - 1hs       7290\n",
       "1 hs o más        7239\n",
       "Name: Tiempo Demora Salida, dtype: int64"
      ]
     },
     "execution_count": 41,
     "metadata": {},
     "output_type": "execute_result"
    }
   ],
   "source": [
    "data[\"Tiempo Demora Salida\"].value_counts()"
   ]
  },
  {
   "cell_type": "markdown",
   "metadata": {},
   "source": [
    "Ahora lo segmentamos en función de la demora en la \"llegada\" de los aviones:"
   ]
  },
  {
   "cell_type": "code",
   "execution_count": 42,
   "metadata": {},
   "outputs": [],
   "source": [
    "data[\"Tiempo Demora LLegada\"]=data.apply(lambda x: \"Sin demora\" if (x[\"Arrival Delay in Minutes\"] == 0) \n",
    "           else(\"30min o menos\" if (x[\"Arrival Delay in Minutes\"] <=30) \n",
    "            else \"30min - 1hs\" if (x[\"Arrival Delay in Minutes\"] <= 60)\n",
    "            else \"1 hs o más\"), axis=1)"
   ]
  },
  {
   "cell_type": "code",
   "execution_count": 43,
   "metadata": {},
   "outputs": [
    {
     "data": {
      "text/plain": [
       "Sin demora       58469\n",
       "30min o menos    30773\n",
       "30min - 1hs       7335\n",
       "1 hs o más        7327\n",
       "Name: Tiempo Demora LLegada, dtype: int64"
      ]
     },
     "execution_count": 43,
     "metadata": {},
     "output_type": "execute_result"
    }
   ],
   "source": [
    "data[\"Tiempo Demora LLegada\"].value_counts()"
   ]
  },
  {
   "cell_type": "markdown",
   "metadata": {},
   "source": [
    "Hacemos dummy las variables discretizadas para ver como impacta la frecuencia de cada una en nuestra target:"
   ]
  },
  {
   "cell_type": "code",
   "execution_count": 44,
   "metadata": {},
   "outputs": [],
   "source": [
    "# Las variables no se encuentran en este dataset. homogeneizar los datasets para que pueda correr todo.\n",
    "data= data.join(pd.get_dummies(data[\"RANGO EDAD\"], prefix= \"Edad\"))\n",
    "data= data.join(pd.get_dummies(data[\"Tiempo Demora Total\"], prefix=\"Demora\"))\n",
    "#data= data.join(pd.get_dummies(data[\"Distancia\"], prefix=\"Distancia\"))"
   ]
  },
  {
   "cell_type": "code",
   "execution_count": 45,
   "metadata": {},
   "outputs": [],
   "source": [
    "#data = data.join(pd.get_dummies(data.satisfaction, prefix=\"satis\"))"
   ]
  },
  {
   "cell_type": "code",
   "execution_count": 46,
   "metadata": {},
   "outputs": [],
   "source": [
    "#data.columns"
   ]
  },
  {
   "cell_type": "code",
   "execution_count": 47,
   "metadata": {},
   "outputs": [],
   "source": [
    "#plt.figure(figsize=(12,12))\n",
    "#sns.heatmap(data.drop(['Unnamed: 0', 'id', 'Gender', 'Customer Type', 'Age', 'Type of Travel','Class', 'Flight Distance','Departure Delay in Minutes', 'Arrival Delay in Minutes'], axis=1).corr()[[\"satis_neutral or dissatisfied\"]], annot=True, cmap=\"Greens\");"
   ]
  },
  {
   "cell_type": "code",
   "execution_count": 48,
   "metadata": {},
   "outputs": [
    {
     "ename": "NameError",
     "evalue": "name 'fp' is not defined",
     "output_type": "error",
     "traceback": [
      "\u001b[1;31m---------------------------------------------------------------------------\u001b[0m",
      "\u001b[1;31mNameError\u001b[0m                                 Traceback (most recent call last)",
      "\u001b[1;32m<ipython-input-48-6fc6fdc123ea>\u001b[0m in \u001b[0;36m<module>\u001b[1;34m\u001b[0m\n\u001b[1;32m----> 1\u001b[1;33m \u001b[0mfp\u001b[0m\u001b[1;33m.\u001b[0m\u001b[0mfreq_tbl\u001b[0m\u001b[1;33m(\u001b[0m\u001b[0mdata\u001b[0m\u001b[1;33m.\u001b[0m\u001b[0mdrop\u001b[0m\u001b[1;33m(\u001b[0m\u001b[1;33m[\u001b[0m\u001b[1;34m'Tiempo Demora Salida'\u001b[0m\u001b[1;33m,\u001b[0m \u001b[1;34m'Tiempo Demora LLegada'\u001b[0m\u001b[1;33m]\u001b[0m\u001b[1;33m,\u001b[0m \u001b[0maxis\u001b[0m\u001b[1;33m=\u001b[0m\u001b[1;36m1\u001b[0m\u001b[1;33m)\u001b[0m\u001b[1;33m[\u001b[0m\u001b[0mdata\u001b[0m\u001b[1;33m.\u001b[0m\u001b[0msatisfaction\u001b[0m \u001b[1;33m==\u001b[0m \u001b[1;34m\"neutral or dissatisfied\"\u001b[0m\u001b[1;33m]\u001b[0m\u001b[1;33m)\u001b[0m\u001b[1;33m\u001b[0m\u001b[1;33m\u001b[0m\u001b[0m\n\u001b[0m",
      "\u001b[1;31mNameError\u001b[0m: name 'fp' is not defined"
     ]
    }
   ],
   "source": [
    "fp.freq_tbl(data.drop(['Tiempo Demora Salida', 'Tiempo Demora LLegada'], axis=1)[data.satisfaction == \"neutral or dissatisfied\"])"
   ]
  },
  {
   "cell_type": "markdown",
   "metadata": {},
   "source": [
    "### 2.2. Conclusiones del análisis exploratorio:\n",
    "\n",
    "#### Características del pasajero insatisfecho"
   ]
  },
  {
   "cell_type": "markdown",
   "metadata": {},
   "source": [
    "Las personas más insatisfechas son:\n",
    "* Personas leales a la empresa. Publico cautivo o no (variable loyalty)\n",
    "* Viajan en la clase Economica (Variable class) sacamos esta\n",
    "* Tienen entre 30 y 50 años (Variable age)\n",
    "* Cuyo vuelo demore más de 1h (variable delay arrived y departures) sacamos esta\n",
    "* El vuelo en cuestión es \"Media Distancia\" (entre 420km y 1200km) (variable flight distance)\n",
    "* Online boarding  sacamos esta\n",
    "* wifi\n",
    "* Enterteiment\n",
    "* Type of travel\n",
    "\n",
    "#### Esto sin dudas nos servirá para poder \"jugar\" con las features que incluiremos en nuestro modelo. Si bien inicialmente intentaremos utilizar todas las variables que tenemos a nuestro alcance, más adelante intentaremos sacar las que en el párrafo anterior destacamos para ver si realmente nuestro clasificador baja su performance al no incluirlas en el modelo."
   ]
  },
  {
   "cell_type": "markdown",
   "metadata": {},
   "source": [
    "# 3. Modelo KNN"
   ]
  },
  {
   "cell_type": "markdown",
   "metadata": {},
   "source": [
    "### 3.1. Modelo General"
   ]
  },
  {
   "cell_type": "markdown",
   "metadata": {},
   "source": [
    "Comencemos importando el clasificador KNN de la librería SKLEARN, dentro del módulo \"neighbors\"...\n",
    "\n",
    "También ya instanciamos el modelo especificando un valor de k-vecinos en el argumento n_neighbors... inicialmente consideraremos 5 vecinos, para luego ver cómo podemos mejorar nuestra predicción."
   ]
  },
  {
   "cell_type": "code",
   "execution_count": null,
   "metadata": {},
   "outputs": [],
   "source": [
    "from sklearn.neighbors import KNeighborsClassifier"
   ]
  },
  {
   "cell_type": "code",
   "execution_count": 17,
   "metadata": {},
   "outputs": [],
   "source": [
    "knn = KNeighborsClassifier(n_neighbors=5)"
   ]
  },
  {
   "cell_type": "markdown",
   "metadata": {},
   "source": [
    "Definimos cuál será nuestro vector de features (X_train) y nuestra variable target (y_train). \n",
    "\n",
    "Inicialmente, probaremos armar el clasificador con todas las variables numéricas que tenemos a disposición, a excepción del ID (código único de la respuesta de cada pasajero)."
   ]
  },
  {
   "cell_type": "code",
   "execution_count": 18,
   "metadata": {},
   "outputs": [],
   "source": [
    "X_train = dftrain.drop(columns=[\"id\",\"satisfaction\", \"satis_satisfied\", \"satis_neutral or dissatisfied\", \"Gender\", \"Customer Type\", \"Type of Travel\", \"Class\", \"duracion\"])\n",
    "y_train = dftrain[\"satis_neutral or dissatisfied\"]"
   ]
  },
  {
   "cell_type": "code",
   "execution_count": 19,
   "metadata": {},
   "outputs": [
    {
     "data": {
      "text/plain": [
       "Index(['Age', 'Flight Distance', 'Inflight wifi service',\n",
       "       'Departure/Arrival time convenient', 'Ease of Online booking',\n",
       "       'Gate location', 'Food and drink', 'Online boarding', 'Seat comfort',\n",
       "       'Inflight entertainment', 'On-board service', 'Leg room service',\n",
       "       'Baggage handling', 'Checkin service', 'Inflight service',\n",
       "       'Cleanliness', 'Departure Delay in Minutes', 'Arrival Delay in Minutes',\n",
       "       'gender_Male', 'cliente_disloyal Customer', 'viaje_Personal Travel',\n",
       "       'boleto_Eco', 'boleto_Eco Plus'],\n",
       "      dtype='object')"
      ]
     },
     "execution_count": 19,
     "metadata": {},
     "output_type": "execute_result"
    }
   ],
   "source": [
    "X_train.columns"
   ]
  },
  {
   "cell_type": "markdown",
   "metadata": {},
   "source": [
    "Realizamos la división del dataset en el conjunto de entrenamiento y el de testeo., para luego ajustar a los datos de entrenamiento y predecir las etiquetas para los datos de test."
   ]
  },
  {
   "cell_type": "code",
   "execution_count": 20,
   "metadata": {},
   "outputs": [],
   "source": [
    "from sklearn.model_selection import train_test_split\n",
    "X_train, X_test, y_train, y_test = train_test_split(X_train, y_train, random_state = 0)"
   ]
  },
  {
   "cell_type": "code",
   "execution_count": 21,
   "metadata": {},
   "outputs": [],
   "source": [
    "knn.fit(X_train, y_train);"
   ]
  },
  {
   "cell_type": "code",
   "execution_count": 22,
   "metadata": {},
   "outputs": [],
   "source": [
    "y_pred = knn.predict(X_test)"
   ]
  },
  {
   "cell_type": "code",
   "execution_count": 23,
   "metadata": {},
   "outputs": [],
   "source": [
    "#y_pred = pd.Series(y_pred, name=\"y_pred\")"
   ]
  },
  {
   "cell_type": "markdown",
   "metadata": {},
   "source": [
    "Ahora armemos una tabla con las predicciones, indicando si fueron acertadas o no..."
   ]
  },
  {
   "cell_type": "code",
   "execution_count": 24,
   "metadata": {},
   "outputs": [],
   "source": [
    "df_pred = pd.concat([X_test, y_test, pd.Series(y_pred, index=y_test.index), y_test==y_pred], axis=1)\n",
    "prediccion = df_pred.iloc[:,29:30]"
   ]
  },
  {
   "cell_type": "code",
   "execution_count": 25,
   "metadata": {},
   "outputs": [
    {
     "data": {
      "text/html": [
       "<div>\n",
       "<style scoped>\n",
       "    .dataframe tbody tr th:only-of-type {\n",
       "        vertical-align: middle;\n",
       "    }\n",
       "\n",
       "    .dataframe tbody tr th {\n",
       "        vertical-align: top;\n",
       "    }\n",
       "\n",
       "    .dataframe thead th {\n",
       "        text-align: right;\n",
       "    }\n",
       "</style>\n",
       "<table border=\"1\" class=\"dataframe\">\n",
       "  <thead>\n",
       "    <tr style=\"text-align: right;\">\n",
       "      <th></th>\n",
       "      <th>index</th>\n",
       "    </tr>\n",
       "  </thead>\n",
       "  <tbody>\n",
       "    <tr>\n",
       "      <th>0</th>\n",
       "      <td>70655</td>\n",
       "    </tr>\n",
       "    <tr>\n",
       "      <th>1</th>\n",
       "      <td>56114</td>\n",
       "    </tr>\n",
       "    <tr>\n",
       "      <th>2</th>\n",
       "      <td>95351</td>\n",
       "    </tr>\n",
       "    <tr>\n",
       "      <th>3</th>\n",
       "      <td>32181</td>\n",
       "    </tr>\n",
       "    <tr>\n",
       "      <th>4</th>\n",
       "      <td>5214</td>\n",
       "    </tr>\n",
       "    <tr>\n",
       "      <th>...</th>\n",
       "      <td>...</td>\n",
       "    </tr>\n",
       "    <tr>\n",
       "      <th>25971</th>\n",
       "      <td>28117</td>\n",
       "    </tr>\n",
       "    <tr>\n",
       "      <th>25972</th>\n",
       "      <td>14513</td>\n",
       "    </tr>\n",
       "    <tr>\n",
       "      <th>25973</th>\n",
       "      <td>72577</td>\n",
       "    </tr>\n",
       "    <tr>\n",
       "      <th>25974</th>\n",
       "      <td>100403</td>\n",
       "    </tr>\n",
       "    <tr>\n",
       "      <th>25975</th>\n",
       "      <td>23119</td>\n",
       "    </tr>\n",
       "  </tbody>\n",
       "</table>\n",
       "<p>25976 rows × 1 columns</p>\n",
       "</div>"
      ],
      "text/plain": [
       "        index\n",
       "0       70655\n",
       "1       56114\n",
       "2       95351\n",
       "3       32181\n",
       "4        5214\n",
       "...       ...\n",
       "25971   28117\n",
       "25972   14513\n",
       "25973   72577\n",
       "25974  100403\n",
       "25975   23119\n",
       "\n",
       "[25976 rows x 1 columns]"
      ]
     },
     "execution_count": 25,
     "metadata": {},
     "output_type": "execute_result"
    }
   ],
   "source": [
    "prediccion.reset_index()"
   ]
  },
  {
   "cell_type": "code",
   "execution_count": 26,
   "metadata": {},
   "outputs": [],
   "source": [
    "from sklearn.metrics import accuracy_score"
   ]
  },
  {
   "cell_type": "code",
   "execution_count": 27,
   "metadata": {},
   "outputs": [
    {
     "data": {
      "text/plain": [
       "0.7418771173390822"
      ]
     },
     "execution_count": 27,
     "metadata": {},
     "output_type": "execute_result"
    }
   ],
   "source": [
    "#accuracy_score(y_train, y_pred)\n",
    "accuracy_score(y_test, y_pred)"
   ]
  },
  {
   "cell_type": "markdown",
   "metadata": {},
   "source": [
    "#### 3.1.1. Optimizando el K"
   ]
  },
  {
   "cell_type": "markdown",
   "metadata": {},
   "source": [
    "Primero estandaricemos la matriz de features... teniendo en cuenta que tenemos features que se encuentran en distintas unidades de medida, esto es algo que tenemos que hacer sí o sí."
   ]
  },
  {
   "cell_type": "code",
   "execution_count": 28,
   "metadata": {},
   "outputs": [],
   "source": [
    "# Utilizamos sklearn para estandarizar la matriz de features\n",
    "from sklearn.preprocessing import StandardScaler\n",
    "scaler = StandardScaler()\n",
    "X_train = scaler.fit_transform(X_train)"
   ]
  },
  {
   "cell_type": "code",
   "execution_count": 29,
   "metadata": {},
   "outputs": [
    {
     "name": "stdout",
     "output_type": "stream",
     "text": [
      "Medias: [-0. -0. -0. -0. -0.  0. -0.  0.  0. -0. -0. -0.  0.  0.  0. -0.  0. -0.\n",
      "  0.  0. -0.  0.  0.]\n",
      "Desvio: [1. 1. 1. 1. 1. 1. 1. 1. 1. 1. 1. 1. 1. 1. 1. 1. 1. 1. 1. 1. 1. 1. 1.]\n"
     ]
    }
   ],
   "source": [
    "# Verificamos que las variables ahora tengan media 0 y desvío 1.\n",
    "print('Medias:', np.mean(X_train, axis=0).round(2))\n",
    "print('Desvio:', np.std(X_train, axis=0).round(2))"
   ]
  },
  {
   "cell_type": "markdown",
   "metadata": {},
   "source": [
    "Ahora definamos la estrategia de validación cruzada con la matriz estandarizada..."
   ]
  },
  {
   "cell_type": "code",
   "execution_count": 30,
   "metadata": {},
   "outputs": [],
   "source": [
    "# Calculamos los scores de cross validation sobre los features estandarizados:\n",
    "from sklearn.model_selection import cross_val_score, KFold\n",
    "kf = KFold(n_splits=5, shuffle=True, random_state=12)\n",
    "scores_para_df_standard = []"
   ]
  },
  {
   "cell_type": "code",
   "execution_count": null,
   "metadata": {},
   "outputs": [],
   "source": [
    "for i in range(1, 21):\n",
    "    # En cada iteración, instanciamos el modelo con un hiperparámetro distinto\n",
    "    model = KNeighborsClassifier(n_neighbors=i)\n",
    "    # cross_val_scores nos devuelve un array de 5 resultados,\n",
    "    # uno por cada partición que hizo automáticamente CV\n",
    "    cv_scores = cross_val_score(model, X_train, y_train, cv=kf)\n",
    "    # Para cada valor de n_neighbours, creamos un diccionario con el valor\n",
    "    # de n_neighbours y la media y el desvío de los scores\n",
    "    dict_row_score = {'score_medio':np.mean(cv_scores),\n",
    "                      'score_std':np.std(cv_scores), 'n_neighbors':i}\n",
    "    scores_para_df_standard.append(dict_row_score)"
   ]
  },
  {
   "cell_type": "markdown",
   "metadata": {},
   "source": [
    "Creamos el DataFrame a partir de la lista de diccionarios, identificando el score máximo y asignando a una variable el valor del k óptimo que se condice con ese score máximo."
   ]
  },
  {
   "cell_type": "code",
   "execution_count": null,
   "metadata": {},
   "outputs": [],
   "source": [
    "df_scores_standard = pd.DataFrame(scores_para_df_standard)\n",
    "print(df_scores_standard)\n",
    "df_scores_standard.loc[df_scores_standard.score_medio == df_scores_standard.score_medio.max()]\n",
    "best_k = df_scores_standard.loc[df_scores_standard.score_medio == df_scores_standard.score_medio.max(), 'n_neighbors'].values[0]\n",
    "print (\"La cantidad óptima de vecinos a considerar es: \", best_k)"
   ]
  },
  {
   "cell_type": "markdown",
   "metadata": {},
   "source": [
    "#### 3.1.2. Vamos a volver a correr el modelo con la cantidad de vecinos óptima resultante de la cross validación..."
   ]
  },
  {
   "cell_type": "code",
   "execution_count": 31,
   "metadata": {},
   "outputs": [],
   "source": [
    "best_k = 8"
   ]
  },
  {
   "cell_type": "code",
   "execution_count": 32,
   "metadata": {},
   "outputs": [
    {
     "data": {
      "text/plain": [
       "KNeighborsClassifier(algorithm='auto', leaf_size=30, metric='minkowski',\n",
       "                     metric_params=None, n_jobs=None, n_neighbors=8, p=2,\n",
       "                     weights='uniform')"
      ]
     },
     "execution_count": 32,
     "metadata": {},
     "output_type": "execute_result"
    }
   ],
   "source": [
    "model = KNeighborsClassifier(n_neighbors=best_k)\n",
    "# Lo ajustamos sobre los datos de entrenamiento\n",
    "model.fit(X_train, y_train)"
   ]
  },
  {
   "cell_type": "code",
   "execution_count": 33,
   "metadata": {},
   "outputs": [
    {
     "data": {
      "text/plain": [
       "0.94"
      ]
     },
     "execution_count": 33,
     "metadata": {},
     "output_type": "execute_result"
    }
   ],
   "source": [
    "# Evaluamos qué accuracy obtenemos en train\n",
    "accuracy_score(y_train, model.predict(X_train)).round(2)"
   ]
  },
  {
   "cell_type": "code",
   "execution_count": 34,
   "metadata": {},
   "outputs": [],
   "source": [
    "# Lo utilizamos para predecir en test, estandarizando también los datos de test con las medias y desvíos aprendidos en train.\n",
    "X_test = scaler.transform(X_test)\n",
    "y_pred = model.predict(X_test)"
   ]
  },
  {
   "cell_type": "code",
   "execution_count": 36,
   "metadata": {},
   "outputs": [
    {
     "data": {
      "text/plain": [
       "0.9299353249153064"
      ]
     },
     "execution_count": 36,
     "metadata": {},
     "output_type": "execute_result"
    }
   ],
   "source": [
    "# Evaluamos el accuracy del modelo en test\n",
    "accuracy_score(y_test, y_pred)"
   ]
  },
  {
   "cell_type": "markdown",
   "metadata": {},
   "source": [
    "#### 3.1.3. Matriz de Confusión"
   ]
  },
  {
   "cell_type": "code",
   "execution_count": 37,
   "metadata": {},
   "outputs": [],
   "source": [
    "from sklearn.metrics import confusion_matrix"
   ]
  },
  {
   "cell_type": "code",
   "execution_count": 38,
   "metadata": {},
   "outputs": [
    {
     "data": {
      "text/plain": [
       "Text(33,0.5,'Reales')"
      ]
     },
     "execution_count": 38,
     "metadata": {},
     "output_type": "execute_result"
    },
    {
     "data": {
      "image/png": "[encoded data removed]",
      "text/plain": [
       "<Figure size 432x288 with 2 Axes>"
      ]
     },
     "metadata": {
      "needs_background": "light"
     },
     "output_type": "display_data"
    }
   ],
   "source": [
    "# En Train\n",
    "sns.heatmap(confusion_matrix(y_train, model.predict(X_train)), annot=True, fmt='4d')\n",
    "plt.xlabel('Predichos')\n",
    "plt.ylabel('Reales')"
   ]
  },
  {
   "cell_type": "code",
   "execution_count": 39,
   "metadata": {},
   "outputs": [
    {
     "data": {
      "text/plain": [
       "array([[10069,  1173],\n",
       "       [  647, 14087]], dtype=int64)"
      ]
     },
     "execution_count": 39,
     "metadata": {},
     "output_type": "execute_result"
    }
   ],
   "source": [
    "# En Test\n",
    "cm = confusion_matrix(y_test, y_pred)\n",
    "cm"
   ]
  },
  {
   "cell_type": "code",
   "execution_count": 40,
   "metadata": {},
   "outputs": [
    {
     "data": {
      "image/png": "[encoded data removed]",
      "text/plain": [
       "<Figure size 432x288 with 2 Axes>"
      ]
     },
     "metadata": {
      "needs_background": "light"
     },
     "output_type": "display_data"
    }
   ],
   "source": [
    "# Graficamos la matriz de confusión para visualizarla mejor\n",
    "sns.heatmap(cm, annot=True, fmt='4d')\n",
    "plt.ylabel('Etiquetas reales')\n",
    "plt.xlabel('Etiquetas predichas');"
   ]
  },
  {
   "cell_type": "markdown",
   "metadata": {},
   "source": [
    "#### 3.1.4. Métricas"
   ]
  },
  {
   "cell_type": "code",
   "execution_count": 41,
   "metadata": {},
   "outputs": [
    {
     "name": "stdout",
     "output_type": "stream",
     "text": [
      "Accuracy score:  0.9299353249153064\n",
      "Precision score:  0.923132372214941\n",
      "Recall score:  0.9560879598208226\n",
      "F1 score:  0.9393211975728478\n",
      "Especificidad:  0.8956591353851627\n"
     ]
    }
   ],
   "source": [
    "from sklearn.metrics import accuracy_score, precision_score, recall_score, f1_score\n",
    "print('Accuracy score: ', format(accuracy_score(y_test, y_pred)))\n",
    "print('Precision score: ', format(precision_score(y_test, y_pred)))\n",
    "print('Recall score: ', format(recall_score(y_test, y_pred)))\n",
    "print('F1 score: ', format(f1_score(y_test, y_pred)))\n",
    "# Specificity\n",
    "TP = cm[1, 1]\n",
    "TN = cm[0, 0]\n",
    "FP = cm[0, 1]\n",
    "FN = cm[1, 0]\n",
    "specificity = TN / (TN + FP)\n",
    "print(\"Especificidad: \", specificity)\n"
   ]
  },
  {
   "cell_type": "markdown",
   "metadata": {},
   "source": [
    "### 3.2. Modelo versión 2"
   ]
  },
  {
   "cell_type": "markdown",
   "metadata": {},
   "source": [
    "#### Acá probemos haciendo todo de nuevo pero sacando algunas de las features de caru"
   ]
  },
  {
   "cell_type": "code",
   "execution_count": null,
   "metadata": {},
   "outputs": [],
   "source": []
  },
  {
   "cell_type": "code",
   "execution_count": null,
   "metadata": {},
   "outputs": [],
   "source": []
  },
  {
   "cell_type": "code",
   "execution_count": null,
   "metadata": {},
   "outputs": [],
   "source": []
  },
  {
   "cell_type": "markdown",
   "metadata": {},
   "source": [
    "# 4. Logistic Regression"
   ]
  },
  {
   "cell_type": "markdown",
   "metadata": {},
   "source": [
    "### 4.1. Modelo general"
   ]
  },
  {
   "cell_type": "code",
   "execution_count": 42,
   "metadata": {},
   "outputs": [],
   "source": [
    "# Preparamos la matriz de features y el vector objetivo igual que para KNN\n",
    "X = dftrain.drop(columns=[\"id\",\"satisfaction\", \"satis_satisfied\", \"satis_neutral or dissatisfied\", \"Gender\", \"Customer Type\", \"Type of Travel\", \"Class\", \"duracion\"])\n",
    "y = dftrain[\"satis_neutral or dissatisfied\"]"
   ]
  },
  {
   "cell_type": "code",
   "execution_count": 43,
   "metadata": {},
   "outputs": [],
   "source": [
    "#Separamos un set de testeo para evaluar el modelo\n",
    "from sklearn.model_selection import train_test_split\n",
    "X_train, X_test, y_train, y_test = train_test_split(X, y, random_state = 0)"
   ]
  },
  {
   "cell_type": "code",
   "execution_count": 44,
   "metadata": {},
   "outputs": [
    {
     "name": "stdout",
     "output_type": "stream",
     "text": [
      "(77928, 23)\n",
      "(25976, 23)\n",
      "(77928,)\n",
      "(25976,)\n"
     ]
    }
   ],
   "source": [
    "print(X_train.shape)\n",
    "print(X_test.shape)\n",
    "print(y_train.shape)\n",
    "print(y_test.shape)"
   ]
  },
  {
   "cell_type": "code",
   "execution_count": 45,
   "metadata": {},
   "outputs": [
    {
     "data": {
      "text/plain": [
       "Index(['Age', 'Flight Distance', 'Inflight wifi service',\n",
       "       'Departure/Arrival time convenient', 'Ease of Online booking',\n",
       "       'Gate location', 'Food and drink', 'Online boarding', 'Seat comfort',\n",
       "       'Inflight entertainment', 'On-board service', 'Leg room service',\n",
       "       'Baggage handling', 'Checkin service', 'Inflight service',\n",
       "       'Cleanliness', 'Departure Delay in Minutes', 'Arrival Delay in Minutes',\n",
       "       'gender_Male', 'cliente_disloyal Customer', 'viaje_Personal Travel',\n",
       "       'boleto_Eco', 'boleto_Eco Plus'],\n",
       "      dtype='object')"
      ]
     },
     "execution_count": 45,
     "metadata": {},
     "output_type": "execute_result"
    }
   ],
   "source": [
    "X.columns"
   ]
  },
  {
   "cell_type": "code",
   "execution_count": 47,
   "metadata": {},
   "outputs": [
    {
     "data": {
      "text/plain": [
       "(0.5664844471820142, 0.567215891592239)"
      ]
     },
     "execution_count": 47,
     "metadata": {},
     "output_type": "execute_result"
    }
   ],
   "source": [
    "# Verificamos que coincidan las proporciones del target \n",
    "y_train.mean(), y_test.mean()"
   ]
  },
  {
   "cell_type": "code",
   "execution_count": 48,
   "metadata": {},
   "outputs": [],
   "source": [
    "# Estandarizamos los datos para que la regularización sea correcta\n",
    "from sklearn.preprocessing import StandardScaler\n",
    "scaler = StandardScaler()\n",
    "X_train_std = scaler.fit_transform(X_train)\n",
    "X_test_std = scaler.transform(X_test)"
   ]
  },
  {
   "cell_type": "code",
   "execution_count": 49,
   "metadata": {},
   "outputs": [
    {
     "data": {
      "text/plain": [
       "LogisticRegression(C=1.0, class_weight=None, dual=False, fit_intercept=True,\n",
       "                   intercept_scaling=1, l1_ratio=None, max_iter=100,\n",
       "                   multi_class='auto', n_jobs=None, penalty='l2',\n",
       "                   random_state=None, solver='lbfgs', tol=0.0001, verbose=0,\n",
       "                   warm_start=False)"
      ]
     },
     "execution_count": 49,
     "metadata": {},
     "output_type": "execute_result"
    }
   ],
   "source": [
    "# Importamos la clase\n",
    "from sklearn.linear_model import LogisticRegression\n",
    "# Instanciamos un objeto de esa clase\n",
    "lr = LogisticRegression()\n",
    "# Ajustamos esta instancia con los datos de entrenamiento\n",
    "lr.fit(X_train_std, y_train)\n"
   ]
  },
  {
   "cell_type": "code",
   "execution_count": 50,
   "metadata": {},
   "outputs": [],
   "source": [
    "from sklearn.metrics import accuracy_score, confusion_matrix, classification_report"
   ]
  },
  {
   "cell_type": "code",
   "execution_count": 51,
   "metadata": {},
   "outputs": [],
   "source": [
    "y_pred = lr.predict(X_test_std)"
   ]
  },
  {
   "cell_type": "code",
   "execution_count": 52,
   "metadata": {},
   "outputs": [
    {
     "data": {
      "text/plain": [
       "0.8749486705677035"
      ]
     },
     "execution_count": 52,
     "metadata": {},
     "output_type": "execute_result"
    }
   ],
   "source": [
    "accuracy_score(y_train, lr.predict(X_train_std))"
   ]
  },
  {
   "cell_type": "code",
   "execution_count": 53,
   "metadata": {},
   "outputs": [
    {
     "data": {
      "text/plain": [
       "0.8760009239297813"
      ]
     },
     "execution_count": 53,
     "metadata": {},
     "output_type": "execute_result"
    }
   ],
   "source": [
    "accuracy_score(y_test, y_pred)"
   ]
  },
  {
   "cell_type": "markdown",
   "metadata": {},
   "source": [
    "#### 4.1.2. Matriz de Confusión"
   ]
  },
  {
   "cell_type": "code",
   "execution_count": 54,
   "metadata": {},
   "outputs": [
    {
     "data": {
      "text/plain": [
       "array([0.34429897, 0.97465405, 0.041382  , ..., 0.26257528, 0.05735763,\n",
       "       0.56374404])"
      ]
     },
     "execution_count": 54,
     "metadata": {},
     "output_type": "execute_result"
    }
   ],
   "source": [
    "lr.predict_proba(X_train_std[y_train==0])[:,1]"
   ]
  },
  {
   "cell_type": "code",
   "execution_count": 55,
   "metadata": {},
   "outputs": [
    {
     "data": {
      "text/plain": [
       "Text(33,0.5,'Reales')"
      ]
     },
     "execution_count": 55,
     "metadata": {},
     "output_type": "execute_result"
    },
    {
     "data": {
      "image/png": "[encoded data removed]",
      "text/plain": [
       "<Figure size 432x288 with 2 Axes>"
      ]
     },
     "metadata": {
      "needs_background": "light"
     },
     "output_type": "display_data"
    }
   ],
   "source": [
    "#en train\n",
    "sns.heatmap(confusion_matrix(y_train, lr.predict(X_train_std)), annot=True, fmt='4d')\n",
    "plt.xlabel('Predichos')\n",
    "plt.ylabel('Reales')"
   ]
  },
  {
   "cell_type": "code",
   "execution_count": 56,
   "metadata": {},
   "outputs": [
    {
     "data": {
      "text/plain": [
       "array([[ 9479,  1763],\n",
       "       [ 1458, 13276]], dtype=int64)"
      ]
     },
     "execution_count": 56,
     "metadata": {},
     "output_type": "execute_result"
    }
   ],
   "source": [
    "# En Test\n",
    "cm = confusion_matrix(y_test, y_pred)\n",
    "cm"
   ]
  },
  {
   "cell_type": "markdown",
   "metadata": {},
   "source": [
    "#### 4.1.3. Métricas"
   ]
  },
  {
   "cell_type": "code",
   "execution_count": 57,
   "metadata": {},
   "outputs": [
    {
     "name": "stdout",
     "output_type": "stream",
     "text": [
      "Accuracy score:  0.8760009239297813\n",
      "Precision score:  0.8827714608684089\n",
      "Recall score:  0.9010452015745893\n",
      "F1 score:  0.8918147314681087\n",
      "Especificidad:  0.8431773705746308\n"
     ]
    }
   ],
   "source": [
    "from sklearn.metrics import accuracy_score, precision_score, recall_score, f1_score\n",
    "print('Accuracy score: ', format(accuracy_score(y_test, y_pred)))\n",
    "print('Precision score: ', format(precision_score(y_test, y_pred)))\n",
    "print('Recall score: ', format(recall_score(y_test, y_pred)))\n",
    "print('F1 score: ', format(f1_score(y_test, y_pred)))\n",
    "# Specificity\n",
    "TP = cm[1, 1]\n",
    "TN = cm[0, 0]\n",
    "FP = cm[0, 1]\n",
    "FN = cm[1, 0]\n",
    "specificity = TN / (TN + FP)\n",
    "print(\"Especificidad: \", specificity)\n"
   ]
  },
  {
   "cell_type": "markdown",
   "metadata": {},
   "source": [
    "### Curva ROC y área bajo la misma"
   ]
  },
  {
   "cell_type": "code",
   "execution_count": 58,
   "metadata": {},
   "outputs": [],
   "source": [
    "from sklearn.metrics import roc_curve, auc"
   ]
  },
  {
   "cell_type": "code",
   "execution_count": 59,
   "metadata": {},
   "outputs": [
    {
     "data": {
      "image/png": "[encoded data removed]",
      "text/plain": [
       "<Figure size 432x288 with 1 Axes>"
      ]
     },
     "metadata": {
      "needs_background": "light"
     },
     "output_type": "display_data"
    }
   ],
   "source": [
    "probs = lr.predict_proba(X_test)\n",
    "\n",
    "fpr,tpr,_ = roc_curve(y_test, probs[:,1])\n",
    "df = pd.DataFrame(dict(fpr=fpr, tpr=tpr))\n",
    "plt.axis([0, 1.01, 0, 1.01])\n",
    "plt.xlabel('1 - Specificty')\n",
    "plt.ylabel('TPR / Sensitivity')\n",
    "plt.title('ROC Curve')\n",
    "plt.plot(df['fpr'],df['tpr'])\n",
    "plt.plot(np.arange(0,1, step =0.01), np.arange(0,1, step =0.01))\n",
    "plt.show() "
   ]
  },
  {
   "cell_type": "markdown",
   "metadata": {},
   "source": [
    "#### 4.1.4. Optimización del umbral (ojo que pisa los conjuntos de train y test para las métricas)"
   ]
  },
  {
   "cell_type": "code",
   "execution_count": 60,
   "metadata": {},
   "outputs": [
    {
     "data": {
      "text/plain": [
       "<matplotlib.legend.Legend at 0x19c100f7308>"
      ]
     },
     "execution_count": 60,
     "metadata": {},
     "output_type": "execute_result"
    },
    {
     "data": {
      "image/png": "[encoded data removed]",
      "text/plain": [
       "<Figure size 432x288 with 1 Axes>"
      ]
     },
     "metadata": {
      "needs_background": "light"
     },
     "output_type": "display_data"
    }
   ],
   "source": [
    "# Histograma de probabilidades\n",
    "sns.distplot(lr.predict_proba(X_train_std[y_train==0])[:,1])\n",
    "sns.distplot(lr.predict_proba(X_train_std[y_train==1])[:,1])\n",
    "ylim = plt.ylim()\n",
    "plt.vlines(0.5, ylim[0], ylim[1])\n",
    "plt.ylim(ylim)\n",
    "plt.legend(['Umbral', 'TenYearCHD = 0', 'TenYearCHD = 1'])"
   ]
  },
  {
   "cell_type": "markdown",
   "metadata": {},
   "source": [
    "# 5. Naive Bayes"
   ]
  },
  {
   "cell_type": "markdown",
   "metadata": {},
   "source": [
    "Importamos las librerias para trabajar"
   ]
  },
  {
   "cell_type": "code",
   "execution_count": 49,
   "metadata": {},
   "outputs": [],
   "source": [
    "from sklearn.model_selection import train_test_split\n",
    "from sklearn.preprocessing import OneHotEncoder \n",
    "from sklearn.preprocessing import RobustScaler\n",
    "from sklearn.naive_bayes import GaussianNB\n",
    "from sklearn.metrics import accuracy_score\n",
    "from sklearn.metrics import confusion_matrix"
   ]
  },
  {
   "cell_type": "markdown",
   "metadata": {},
   "source": [
    "### 5.1. Features Target"
   ]
  },
  {
   "cell_type": "code",
   "execution_count": 50,
   "metadata": {},
   "outputs": [
    {
     "name": "stdout",
     "output_type": "stream",
     "text": [
      "(72732, 23)\n",
      "(31172, 23)\n",
      "(72732,)\n",
      "(31172,)\n"
     ]
    }
   ],
   "source": [
    "# Separamos el dataset en la matriz de features X y el vector target Y\n",
    "X = dftrain.drop(columns=[\"id\",\"satisfaction\", \"satis_satisfied\", \"satis_neutral or dissatisfied\", \"Gender\", \"Customer Type\", \"Type of Travel\", \"Class\",'duracion'])\n",
    "\n",
    "Y = dftrain[\"satis_neutral or dissatisfied\"]\n",
    "\n",
    "# Armamos el conjunto de train y test para nuestro clasificador, con una proporción 70-30\n",
    "X_train, X_test, Y_train, Y_test = train_test_split(X, Y, test_size = 0.3, random_state = 1237)\n",
    "\n",
    "print(X_train.shape)\n",
    "print(X_test.shape)\n",
    "print(Y_train.shape)\n",
    "print(Y_test.shape)"
   ]
  },
  {
   "cell_type": "markdown",
   "metadata": {},
   "source": [
    "### 5.2. Instanciamos y entrenamos un modelo naive bayes gaussiano."
   ]
  },
  {
   "cell_type": "code",
   "execution_count": 52,
   "metadata": {},
   "outputs": [
    {
     "data": {
      "text/plain": [
       "GaussianNB()"
      ]
     },
     "execution_count": 52,
     "metadata": {},
     "output_type": "execute_result"
    }
   ],
   "source": [
    "gnb = GaussianNB()\n",
    "\n",
    "gnb.fit(X_train, Y_train)"
   ]
  },
  {
   "cell_type": "markdown",
   "metadata": {},
   "source": [
    "### 5.3. Predict"
   ]
  },
  {
   "cell_type": "code",
   "execution_count": 53,
   "metadata": {},
   "outputs": [
    {
     "data": {
      "text/plain": [
       "array([0, 0, 1, ..., 1, 0, 1], dtype=uint8)"
      ]
     },
     "execution_count": 53,
     "metadata": {},
     "output_type": "execute_result"
    }
   ],
   "source": [
    "Y_pred = gnb.predict(X_test)\n",
    "\n",
    "Y_pred"
   ]
  },
  {
   "cell_type": "markdown",
   "metadata": {},
   "source": [
    "### 5.4. Performance del modelo"
   ]
  },
  {
   "cell_type": "code",
   "execution_count": 54,
   "metadata": {},
   "outputs": [
    {
     "data": {
      "text/plain": [
       "0.8594251251122802"
      ]
     },
     "execution_count": 54,
     "metadata": {},
     "output_type": "execute_result"
    }
   ],
   "source": [
    "# Accuracy\n",
    "accuracy_score(Y_test, Y_pred)"
   ]
  },
  {
   "cell_type": "code",
   "execution_count": 55,
   "metadata": {},
   "outputs": [
    {
     "name": "stdout",
     "output_type": "stream",
     "text": [
      "Accuracy score:  0.8594251251122802\n",
      "Precision score:  0.8616259362528019\n",
      "Recall score:  0.8948952359320879\n",
      "F1 score:  0.8779455183555235\n"
     ]
    }
   ],
   "source": [
    "from sklearn.metrics import accuracy_score, precision_score, recall_score, f1_score\n",
    "print('Accuracy score: ', format(accuracy_score(Y_test, Y_pred)))\n",
    "print('Precision score: ', format(precision_score(Y_test, Y_pred)))\n",
    "print('Recall score: ', format(recall_score(Y_test, Y_pred)))\n",
    "print('F1 score: ', format(f1_score(Y_test, Y_pred)))\n",
    "\n"
   ]
  },
  {
   "cell_type": "code",
   "execution_count": 57,
   "metadata": {},
   "outputs": [
    {
     "data": {
      "text/plain": [
       "(72732,)"
      ]
     },
     "execution_count": 57,
     "metadata": {},
     "output_type": "execute_result"
    }
   ],
   "source": [
    "Y_train.shape"
   ]
  },
  {
   "cell_type": "code",
   "execution_count": 58,
   "metadata": {},
   "outputs": [
    {
     "name": "stdout",
     "output_type": "stream",
     "text": [
      "Confusion matrix\n",
      "\n",
      " [[11030  2531]\n",
      " [ 1851 15760]]\n"
     ]
    },
    {
     "data": {
      "image/png": "[encoded data removed]",
      "text/plain": [
       "<Figure size 432x288 with 2 Axes>"
      ]
     },
     "metadata": {
      "needs_background": "light"
     },
     "output_type": "display_data"
    }
   ],
   "source": [
    "# Matriz de confusion\n",
    "\n",
    "cm = confusion_matrix(Y_test, Y_pred)\n",
    "\n",
    "print('Confusion matrix\\n\\n', cm)\n",
    "sns.heatmap(cm, annot=True, fmt='4d')\n",
    "plt.xlabel('Predichos')\n",
    "plt.ylabel('Reales');"
   ]
  },
  {
   "cell_type": "code",
   "execution_count": 59,
   "metadata": {},
   "outputs": [
    {
     "name": "stdout",
     "output_type": "stream",
     "text": [
      "Especificidad:  0.8133618464714991\n"
     ]
    }
   ],
   "source": [
    "# Specificity\n",
    "TP = cm[1, 1]\n",
    "TN = cm[0, 0]\n",
    "FP = cm[0, 1]\n",
    "FN = cm[1, 0]\n",
    "specificity = TN / (TN + FP)\n",
    "print(\"Especificidad: \", specificity)"
   ]
  },
  {
   "cell_type": "code",
   "execution_count": 56,
   "metadata": {},
   "outputs": [
    {
     "ename": "ValueError",
     "evalue": "Classification metrics can't handle a mix of multiclass-multioutput and binary targets",
     "output_type": "error",
     "traceback": [
      "\u001b[1;31m---------------------------------------------------------------------------\u001b[0m",
      "\u001b[1;31mValueError\u001b[0m                                Traceback (most recent call last)",
      "\u001b[1;32m<ipython-input-56-9a976ec190a4>\u001b[0m in \u001b[0;36m<module>\u001b[1;34m\u001b[0m\n\u001b[0;32m      1\u001b[0m \u001b[1;31m#Accuracy train\u001b[0m\u001b[1;33m\u001b[0m\u001b[1;33m\u001b[0m\u001b[1;33m\u001b[0m\u001b[0m\n\u001b[1;32m----> 2\u001b[1;33m \u001b[0maccuracy_score\u001b[0m\u001b[1;33m(\u001b[0m\u001b[0mX_train\u001b[0m\u001b[1;33m,\u001b[0m \u001b[0mY_train\u001b[0m\u001b[1;33m)\u001b[0m\u001b[1;33m\u001b[0m\u001b[1;33m\u001b[0m\u001b[0m\n\u001b[0m",
      "\u001b[1;32m~\\anaconda3\\envs\\dhdsblend\\lib\\site-packages\\sklearn\\utils\\validation.py\u001b[0m in \u001b[0;36minner_f\u001b[1;34m(*args, **kwargs)\u001b[0m\n\u001b[0;32m     71\u001b[0m                           FutureWarning)\n\u001b[0;32m     72\u001b[0m         \u001b[0mkwargs\u001b[0m\u001b[1;33m.\u001b[0m\u001b[0mupdate\u001b[0m\u001b[1;33m(\u001b[0m\u001b[1;33m{\u001b[0m\u001b[0mk\u001b[0m\u001b[1;33m:\u001b[0m \u001b[0marg\u001b[0m \u001b[1;32mfor\u001b[0m \u001b[0mk\u001b[0m\u001b[1;33m,\u001b[0m \u001b[0marg\u001b[0m \u001b[1;32min\u001b[0m \u001b[0mzip\u001b[0m\u001b[1;33m(\u001b[0m\u001b[0msig\u001b[0m\u001b[1;33m.\u001b[0m\u001b[0mparameters\u001b[0m\u001b[1;33m,\u001b[0m \u001b[0margs\u001b[0m\u001b[1;33m)\u001b[0m\u001b[1;33m}\u001b[0m\u001b[1;33m)\u001b[0m\u001b[1;33m\u001b[0m\u001b[1;33m\u001b[0m\u001b[0m\n\u001b[1;32m---> 73\u001b[1;33m         \u001b[1;32mreturn\u001b[0m \u001b[0mf\u001b[0m\u001b[1;33m(\u001b[0m\u001b[1;33m**\u001b[0m\u001b[0mkwargs\u001b[0m\u001b[1;33m)\u001b[0m\u001b[1;33m\u001b[0m\u001b[1;33m\u001b[0m\u001b[0m\n\u001b[0m\u001b[0;32m     74\u001b[0m     \u001b[1;32mreturn\u001b[0m \u001b[0minner_f\u001b[0m\u001b[1;33m\u001b[0m\u001b[1;33m\u001b[0m\u001b[0m\n\u001b[0;32m     75\u001b[0m \u001b[1;33m\u001b[0m\u001b[0m\n",
      "\u001b[1;32m~\\anaconda3\\envs\\dhdsblend\\lib\\site-packages\\sklearn\\metrics\\_classification.py\u001b[0m in \u001b[0;36maccuracy_score\u001b[1;34m(y_true, y_pred, normalize, sample_weight)\u001b[0m\n\u001b[0;32m    185\u001b[0m \u001b[1;33m\u001b[0m\u001b[0m\n\u001b[0;32m    186\u001b[0m     \u001b[1;31m# Compute accuracy for each possible representation\u001b[0m\u001b[1;33m\u001b[0m\u001b[1;33m\u001b[0m\u001b[1;33m\u001b[0m\u001b[0m\n\u001b[1;32m--> 187\u001b[1;33m     \u001b[0my_type\u001b[0m\u001b[1;33m,\u001b[0m \u001b[0my_true\u001b[0m\u001b[1;33m,\u001b[0m \u001b[0my_pred\u001b[0m \u001b[1;33m=\u001b[0m \u001b[0m_check_targets\u001b[0m\u001b[1;33m(\u001b[0m\u001b[0my_true\u001b[0m\u001b[1;33m,\u001b[0m \u001b[0my_pred\u001b[0m\u001b[1;33m)\u001b[0m\u001b[1;33m\u001b[0m\u001b[1;33m\u001b[0m\u001b[0m\n\u001b[0m\u001b[0;32m    188\u001b[0m     \u001b[0mcheck_consistent_length\u001b[0m\u001b[1;33m(\u001b[0m\u001b[0my_true\u001b[0m\u001b[1;33m,\u001b[0m \u001b[0my_pred\u001b[0m\u001b[1;33m,\u001b[0m \u001b[0msample_weight\u001b[0m\u001b[1;33m)\u001b[0m\u001b[1;33m\u001b[0m\u001b[1;33m\u001b[0m\u001b[0m\n\u001b[0;32m    189\u001b[0m     \u001b[1;32mif\u001b[0m \u001b[0my_type\u001b[0m\u001b[1;33m.\u001b[0m\u001b[0mstartswith\u001b[0m\u001b[1;33m(\u001b[0m\u001b[1;34m'multilabel'\u001b[0m\u001b[1;33m)\u001b[0m\u001b[1;33m:\u001b[0m\u001b[1;33m\u001b[0m\u001b[1;33m\u001b[0m\u001b[0m\n",
      "\u001b[1;32m~\\anaconda3\\envs\\dhdsblend\\lib\\site-packages\\sklearn\\metrics\\_classification.py\u001b[0m in \u001b[0;36m_check_targets\u001b[1;34m(y_true, y_pred)\u001b[0m\n\u001b[0;32m     89\u001b[0m     \u001b[1;32mif\u001b[0m \u001b[0mlen\u001b[0m\u001b[1;33m(\u001b[0m\u001b[0my_type\u001b[0m\u001b[1;33m)\u001b[0m \u001b[1;33m>\u001b[0m \u001b[1;36m1\u001b[0m\u001b[1;33m:\u001b[0m\u001b[1;33m\u001b[0m\u001b[1;33m\u001b[0m\u001b[0m\n\u001b[0;32m     90\u001b[0m         raise ValueError(\"Classification metrics can't handle a mix of {0} \"\n\u001b[1;32m---> 91\u001b[1;33m                          \"and {1} targets\".format(type_true, type_pred))\n\u001b[0m\u001b[0;32m     92\u001b[0m \u001b[1;33m\u001b[0m\u001b[0m\n\u001b[0;32m     93\u001b[0m     \u001b[1;31m# We can't have more than one value on y_type => The set is no more needed\u001b[0m\u001b[1;33m\u001b[0m\u001b[1;33m\u001b[0m\u001b[1;33m\u001b[0m\u001b[0m\n",
      "\u001b[1;31mValueError\u001b[0m: Classification metrics can't handle a mix of multiclass-multioutput and binary targets"
     ]
    }
   ],
   "source": [
    "#Accuracy train\n",
    "accuracy_score(X_train, Y_train)"
   ]
  },
  {
   "cell_type": "code",
   "execution_count": 78,
   "metadata": {},
   "outputs": [
    {
     "data": {
      "text/plain": [
       "(72732, 23)"
      ]
     },
     "execution_count": 78,
     "metadata": {},
     "output_type": "execute_result"
    }
   ],
   "source": [
    "X_train.shape"
   ]
  },
  {
   "cell_type": "code",
   "execution_count": 80,
   "metadata": {},
   "outputs": [
    {
     "data": {
      "text/plain": [
       "pandas.core.series.Series"
      ]
     },
     "execution_count": 80,
     "metadata": {},
     "output_type": "execute_result"
    }
   ],
   "source": [
    "type(Y_train)"
   ]
  },
  {
   "cell_type": "code",
   "execution_count": 73,
   "metadata": {},
   "outputs": [
    {
     "data": {
      "text/plain": [
       "1    41268\n",
       "0    31464\n",
       "Name: satis_neutral or dissatisfied, dtype: int64"
      ]
     },
     "execution_count": 73,
     "metadata": {},
     "output_type": "execute_result"
    }
   ],
   "source": [
    "# Comparamos la performance del modelo con lo que obtenemos si siempre elegimos la clase mayoritaria como predicción\n",
    "\n",
    "Y_train.value_counts()"
   ]
  },
  {
   "cell_type": "markdown",
   "metadata": {},
   "source": [
    "## 6. Optimización utilizando GridSearchCV"
   ]
  },
  {
   "cell_type": "markdown",
   "metadata": {},
   "source": [
    "Importamos las librerias a utilizar para GridSearchCV"
   ]
  },
  {
   "cell_type": "code",
   "execution_count": null,
   "metadata": {},
   "outputs": [],
   "source": [
    "from sklearn.model_selection import KFold, cross_val_score,train_test_split,GridSearchCV,RandomizedSearchCV\n",
    "from sklearn.preprocessing import StandardScaler\n",
    "from sklearn.neighbors import KNeighborsClassifier\n",
    "from sklearn.linear_model import LogisticRegression\n",
    "from sklearn.metrics import confusion_matrix,classification_report"
   ]
  },
  {
   "cell_type": "markdown",
   "metadata": {},
   "source": [
    "### 6.1. Preparamos nuevamente la matriz de features y el vector target."
   ]
  },
  {
   "cell_type": "code",
   "execution_count": null,
   "metadata": {},
   "outputs": [],
   "source": [
    "dftrain.columns"
   ]
  },
  {
   "cell_type": "markdown",
   "metadata": {},
   "source": [
    "##### Creamos un df de juguete para ver si la busqueda de hiperparametros funciona bien."
   ]
  },
  {
   "cell_type": "code",
   "execution_count": null,
   "metadata": {},
   "outputs": [],
   "source": [
    "df_muestra= dftrain.sample(1000)"
   ]
  },
  {
   "cell_type": "code",
   "execution_count": null,
   "metadata": {},
   "outputs": [],
   "source": [
    "df_muestra=df_muestra.dropna()"
   ]
  },
  {
   "cell_type": "code",
   "execution_count": null,
   "metadata": {},
   "outputs": [],
   "source": [
    "cols=['Age','Flight Distance', 'Inflight wifi service',\n",
    "       'Departure/Arrival time convenient', 'Ease of Online booking',\n",
    "       'Gate location', 'Food and drink', 'Online boarding', 'Seat comfort',\n",
    "       'Inflight entertainment', 'On-board service', 'Leg room service',\n",
    "       'Baggage handling', 'Checkin service', 'Inflight service',\n",
    "       'Cleanliness', 'Departure Delay in Minutes', 'Arrival Delay in Minutes',\n",
    "      'gender_Female', 'gender_Male', 'cliente_Loyal Customer',\n",
    "       'cliente_disloyal Customer', 'viaje_Business travel',\n",
    "       'viaje_Personal Travel', 'boleto_Business', 'boleto_Eco',\n",
    "       'boleto_Eco Plus']"
   ]
  },
  {
   "cell_type": "code",
   "execution_count": null,
   "metadata": {},
   "outputs": [],
   "source": [
    "X=df_muestra[cols]\n",
    "y= df_muestra[\"satis_neutral or dissatisfied\"]"
   ]
  },
  {
   "cell_type": "code",
   "execution_count": null,
   "metadata": {},
   "outputs": [],
   "source": [
    "# Separamos en train y test\n",
    "X_train,X_test,ytrain,ytest = train_test_split(X, y , stratify=y, random_state= 0)"
   ]
  },
  {
   "cell_type": "code",
   "execution_count": null,
   "metadata": {},
   "outputs": [],
   "source": [
    "#Escalamos ya que utilizamos dos estimadores que necesitan escalar las features.\n",
    "scaler= StandardScaler()"
   ]
  },
  {
   "cell_type": "code",
   "execution_count": null,
   "metadata": {},
   "outputs": [],
   "source": [
    "X_train_std= scaler.fit_transform(X_train)\n",
    "X_test_std= scaler.transform(X_test)"
   ]
  },
  {
   "cell_type": "code",
   "execution_count": null,
   "metadata": {},
   "outputs": [],
   "source": [
    "models = [LogisticRegression(),\n",
    "          KNeighborsClassifier()]"
   ]
  },
  {
   "cell_type": "markdown",
   "metadata": {},
   "source": [
    "### 6.2. Comenzamos la búsqueda de hiperparámetros.\n",
    "En este caso, en relación a nuestro estimador KNN vamos a tener en cuenta los siguientes hiper parámetros:\n",
    "* C\n",
    "* Penalty\n",
    "* Solver\n",
    "\n",
    "Por otro lado, para el caso de nuestro modelo de regresión logística tenemos en cuenta:\n",
    "* n_neighbors\n",
    "* weights\n",
    "* P"
   ]
  },
  {
   "cell_type": "code",
   "execution_count": null,
   "metadata": {},
   "outputs": [],
   "source": [
    "params = [\n",
    "    {'C': [1, 10, 100, 1000],\n",
    "     'penalty': ['l1', 'l2',],\n",
    "     'solver': ['saga']},\n",
    "    {'n_neighbors': range(1,50),\n",
    "     'weights' : ['uniform', 'distance'],\n",
    "     'p' : [1, 2, 3]}\n",
    "]"
   ]
  },
  {
   "cell_type": "code",
   "execution_count": null,
   "metadata": {},
   "outputs": [],
   "source": [
    "from sklearn.model_selection import StratifiedKFold\n",
    "folds=StratifiedKFold(n_splits=10, random_state=19, shuffle=True)"
   ]
  },
  {
   "cell_type": "code",
   "execution_count": null,
   "metadata": {},
   "outputs": [],
   "source": [
    "grids = []\n",
    "for i in range(len(models)):\n",
    "    gs = GridSearchCV(estimator=models[i], param_grid=params[i], scoring='accuracy', cv=folds, n_jobs=4)\n",
    "    print (gs)\n",
    "    fit = gs.fit(X_train_std, ytrain)\n",
    "    grids.append(fit)"
   ]
  },
  {
   "cell_type": "code",
   "execution_count": null,
   "metadata": {},
   "outputs": [],
   "source": [
    "for i in grids:\n",
    "    print (i.best_score_)\n",
    "    print (i.best_estimator_)\n",
    "    print (i.best_params_)"
   ]
  },
  {
   "cell_type": "markdown",
   "metadata": {},
   "source": [
    "##### Separamos los dos mejores modelos."
   ]
  },
  {
   "cell_type": "code",
   "execution_count": null,
   "metadata": {},
   "outputs": [],
   "source": [
    "grids[0]"
   ]
  },
  {
   "cell_type": "code",
   "execution_count": null,
   "metadata": {},
   "outputs": [],
   "source": [
    "grids[1]"
   ]
  },
  {
   "cell_type": "markdown",
   "metadata": {},
   "source": [
    "#### Ahora vemos como nos va a la hora de predecir. "
   ]
  },
  {
   "cell_type": "code",
   "execution_count": null,
   "metadata": {},
   "outputs": [],
   "source": [
    "y_pred_log= grids[0].predict(X_test_std)\n",
    "y_pred_knn= grids[1].predict(X_test_std)"
   ]
  },
  {
   "cell_type": "markdown",
   "metadata": {},
   "source": [
    "#### Evaluamos la performance del mismo. "
   ]
  },
  {
   "cell_type": "markdown",
   "metadata": {},
   "source": [
    "##### Primero evaluamos la performance de la Regresión Logística"
   ]
  },
  {
   "cell_type": "code",
   "execution_count": null,
   "metadata": {},
   "outputs": [],
   "source": [
    "print(classification_report(ytest,y_pred_log))"
   ]
  },
  {
   "cell_type": "code",
   "execution_count": null,
   "metadata": {},
   "outputs": [],
   "source": [
    "sns.heatmap(confusion_matrix(ytest,y_pred_log),annot=True, fmt=\"4d\");"
   ]
  },
  {
   "cell_type": "markdown",
   "metadata": {},
   "source": [
    "##### Ahora evaluamos la performance del modelo KNN."
   ]
  },
  {
   "cell_type": "code",
   "execution_count": null,
   "metadata": {},
   "outputs": [],
   "source": [
    "print(classification_report(ytest,y_pred_knn))"
   ]
  },
  {
   "cell_type": "code",
   "execution_count": null,
   "metadata": {},
   "outputs": [],
   "source": [
    "sns.heatmap(confusion_matrix(ytest,y_pred_knn), annot=True, fmt=\"4d\");"
   ]
  },
  {
   "cell_type": "markdown",
   "metadata": {},
   "source": [
    "# 7. Conclusion final"
   ]
  },
  {
   "cell_type": "code",
   "execution_count": 12,
   "metadata": {},
   "outputs": [
    {
     "data": {
      "text/html": [
       "<div>\n",
       "<style scoped>\n",
       "    .dataframe tbody tr th:only-of-type {\n",
       "        vertical-align: middle;\n",
       "    }\n",
       "\n",
       "    .dataframe tbody tr th {\n",
       "        vertical-align: top;\n",
       "    }\n",
       "\n",
       "    .dataframe thead th {\n",
       "        text-align: right;\n",
       "    }\n",
       "</style>\n",
       "<table border=\"1\" class=\"dataframe\">\n",
       "  <thead>\n",
       "    <tr style=\"text-align: right;\">\n",
       "      <th></th>\n",
       "      <th>N</th>\n",
       "      <th>Modelo</th>\n",
       "      <th>Features</th>\n",
       "      <th>Accuracy Train</th>\n",
       "      <th>Accuracy Test</th>\n",
       "      <th>Precision</th>\n",
       "      <th>Recall</th>\n",
       "      <th>Specificity</th>\n",
       "      <th>F1_Score</th>\n",
       "    </tr>\n",
       "  </thead>\n",
       "  <tbody>\n",
       "    <tr>\n",
       "      <th>0</th>\n",
       "      <td>1</td>\n",
       "      <td>KNN Escalado (n=8)</td>\n",
       "      <td>A</td>\n",
       "      <td>0.943271</td>\n",
       "      <td>0.929935</td>\n",
       "      <td>0.923132</td>\n",
       "      <td>0.956088</td>\n",
       "      <td>0.895659</td>\n",
       "      <td>0.939321</td>\n",
       "    </tr>\n",
       "    <tr>\n",
       "      <th>1</th>\n",
       "      <td>2</td>\n",
       "      <td>KNN Escalado (n=8)</td>\n",
       "      <td>A-Age</td>\n",
       "      <td>-</td>\n",
       "      <td>0.929396</td>\n",
       "      <td>-</td>\n",
       "      <td>-</td>\n",
       "      <td>-</td>\n",
       "      <td>-</td>\n",
       "    </tr>\n",
       "    <tr>\n",
       "      <th>2</th>\n",
       "      <td>3</td>\n",
       "      <td>KNN Escalado (n=8)</td>\n",
       "      <td>A-Wifi</td>\n",
       "      <td>-</td>\n",
       "      <td>0.911880</td>\n",
       "      <td>-</td>\n",
       "      <td>-</td>\n",
       "      <td>-</td>\n",
       "      <td>-</td>\n",
       "    </tr>\n",
       "    <tr>\n",
       "      <th>3</th>\n",
       "      <td>4</td>\n",
       "      <td>KNN Escalado (n=8)</td>\n",
       "      <td>A-Inflight entertainment</td>\n",
       "      <td>-</td>\n",
       "      <td>0.931475</td>\n",
       "      <td>-</td>\n",
       "      <td>-</td>\n",
       "      <td>-</td>\n",
       "      <td>-</td>\n",
       "    </tr>\n",
       "    <tr>\n",
       "      <th>4</th>\n",
       "      <td>5</td>\n",
       "      <td>KNN Escalado (n=8)</td>\n",
       "      <td>A-Type of travel</td>\n",
       "      <td>-</td>\n",
       "      <td>0.929935</td>\n",
       "      <td>-</td>\n",
       "      <td>-</td>\n",
       "      <td>-</td>\n",
       "      <td>-</td>\n",
       "    </tr>\n",
       "    <tr>\n",
       "      <th>5</th>\n",
       "      <td>6</td>\n",
       "      <td>KNN Escalado (n=8)</td>\n",
       "      <td>A-Arrival delay in minutes</td>\n",
       "      <td>-</td>\n",
       "      <td>0.930513</td>\n",
       "      <td>-</td>\n",
       "      <td>-</td>\n",
       "      <td>-</td>\n",
       "      <td>-</td>\n",
       "    </tr>\n",
       "    <tr>\n",
       "      <th>6</th>\n",
       "      <td>7</td>\n",
       "      <td>KNN Escalado (n=8)</td>\n",
       "      <td>A-Departure delay in minutes</td>\n",
       "      <td>-</td>\n",
       "      <td>0.929974</td>\n",
       "      <td>-</td>\n",
       "      <td>-</td>\n",
       "      <td>-</td>\n",
       "      <td>-</td>\n",
       "    </tr>\n",
       "    <tr>\n",
       "      <th>7</th>\n",
       "      <td>8</td>\n",
       "      <td>KNN Escalado (n=8)</td>\n",
       "      <td>A-Flight Distance</td>\n",
       "      <td>-</td>\n",
       "      <td>0.932245</td>\n",
       "      <td>-</td>\n",
       "      <td>-</td>\n",
       "      <td>-</td>\n",
       "      <td>-</td>\n",
       "    </tr>\n",
       "    <tr>\n",
       "      <th>8</th>\n",
       "      <td>9</td>\n",
       "      <td>KNN Escalado (n=8)</td>\n",
       "      <td>A-Online boarding</td>\n",
       "      <td>-</td>\n",
       "      <td>0.927164</td>\n",
       "      <td>-</td>\n",
       "      <td>-</td>\n",
       "      <td>-</td>\n",
       "      <td>-</td>\n",
       "    </tr>\n",
       "    <tr>\n",
       "      <th>9</th>\n",
       "      <td>10</td>\n",
       "      <td>KNN Escalado (n=8)</td>\n",
       "      <td>A-Boleto económico</td>\n",
       "      <td>-</td>\n",
       "      <td>0.929165</td>\n",
       "      <td>-</td>\n",
       "      <td>-</td>\n",
       "      <td>-</td>\n",
       "      <td>-</td>\n",
       "    </tr>\n",
       "    <tr>\n",
       "      <th>10</th>\n",
       "      <td>11</td>\n",
       "      <td>Logistic Regression</td>\n",
       "      <td>A</td>\n",
       "      <td>0.874949</td>\n",
       "      <td>0.876001</td>\n",
       "      <td>0.882771</td>\n",
       "      <td>0.901045</td>\n",
       "      <td>0.891815</td>\n",
       "      <td>0.843177</td>\n",
       "    </tr>\n",
       "    <tr>\n",
       "      <th>11</th>\n",
       "      <td>12</td>\n",
       "      <td>Logistic Regression</td>\n",
       "      <td>A-Age</td>\n",
       "      <td>-</td>\n",
       "      <td>0.875231</td>\n",
       "      <td>-</td>\n",
       "      <td>-</td>\n",
       "      <td>-</td>\n",
       "      <td>-</td>\n",
       "    </tr>\n",
       "    <tr>\n",
       "      <th>12</th>\n",
       "      <td>13</td>\n",
       "      <td>Logistic Regression</td>\n",
       "      <td>A-Wifi</td>\n",
       "      <td>-</td>\n",
       "      <td>0.871574</td>\n",
       "      <td>-</td>\n",
       "      <td>-</td>\n",
       "      <td>-</td>\n",
       "      <td>-</td>\n",
       "    </tr>\n",
       "    <tr>\n",
       "      <th>13</th>\n",
       "      <td>14</td>\n",
       "      <td>Logistic Regression</td>\n",
       "      <td>A-Inflight entertainment</td>\n",
       "      <td>-</td>\n",
       "      <td>0.875616</td>\n",
       "      <td>-</td>\n",
       "      <td>-</td>\n",
       "      <td>-</td>\n",
       "      <td>-</td>\n",
       "    </tr>\n",
       "    <tr>\n",
       "      <th>14</th>\n",
       "      <td>15</td>\n",
       "      <td>Logistic Regression</td>\n",
       "      <td>A-Arrival delay in minutes</td>\n",
       "      <td>-</td>\n",
       "      <td>0.875423</td>\n",
       "      <td>-</td>\n",
       "      <td>-</td>\n",
       "      <td>-</td>\n",
       "      <td>-</td>\n",
       "    </tr>\n",
       "    <tr>\n",
       "      <th>15</th>\n",
       "      <td>16</td>\n",
       "      <td>Logistic Regression</td>\n",
       "      <td>A-Departure delay in minutes</td>\n",
       "      <td>-</td>\n",
       "      <td>0.875808</td>\n",
       "      <td>-</td>\n",
       "      <td>-</td>\n",
       "      <td>-</td>\n",
       "      <td>-</td>\n",
       "    </tr>\n",
       "    <tr>\n",
       "      <th>16</th>\n",
       "      <td>17</td>\n",
       "      <td>Logistic Regression</td>\n",
       "      <td>A-Type of travel</td>\n",
       "      <td>-</td>\n",
       "      <td>0.853557</td>\n",
       "      <td>-</td>\n",
       "      <td>-</td>\n",
       "      <td>-</td>\n",
       "      <td>-</td>\n",
       "    </tr>\n",
       "    <tr>\n",
       "      <th>17</th>\n",
       "      <td>18</td>\n",
       "      <td>Logistic Regression</td>\n",
       "      <td>A-Flight Distance</td>\n",
       "      <td>-</td>\n",
       "      <td>0.875962</td>\n",
       "      <td>-</td>\n",
       "      <td>-</td>\n",
       "      <td>-</td>\n",
       "      <td>-</td>\n",
       "    </tr>\n",
       "    <tr>\n",
       "      <th>18</th>\n",
       "      <td>19</td>\n",
       "      <td>Logistic Regression</td>\n",
       "      <td>A-Online boarding</td>\n",
       "      <td>-</td>\n",
       "      <td>0.863374</td>\n",
       "      <td>-</td>\n",
       "      <td>-</td>\n",
       "      <td>-</td>\n",
       "      <td>-</td>\n",
       "    </tr>\n",
       "    <tr>\n",
       "      <th>19</th>\n",
       "      <td>20</td>\n",
       "      <td>Logistic Regression</td>\n",
       "      <td>A-Boleto económico</td>\n",
       "      <td>-</td>\n",
       "      <td>0.873306</td>\n",
       "      <td>-</td>\n",
       "      <td>-</td>\n",
       "      <td>-</td>\n",
       "      <td>-</td>\n",
       "    </tr>\n",
       "    <tr>\n",
       "      <th>20</th>\n",
       "      <td>21</td>\n",
       "      <td>Naive Bayes</td>\n",
       "      <td>A</td>\n",
       "      <td>0.861361</td>\n",
       "      <td>0.859425</td>\n",
       "      <td>0.861626</td>\n",
       "      <td>0.894895</td>\n",
       "      <td>0.813362</td>\n",
       "      <td>0.877946</td>\n",
       "    </tr>\n",
       "  </tbody>\n",
       "</table>\n",
       "</div>"
      ],
      "text/plain": [
       "     N               Modelo                      Features Accuracy Train  \\\n",
       "0    1   KNN Escalado (n=8)                             A       0.943271   \n",
       "1    2   KNN Escalado (n=8)                         A-Age              -   \n",
       "2    3   KNN Escalado (n=8)                        A-Wifi              -   \n",
       "3    4   KNN Escalado (n=8)      A-Inflight entertainment              -   \n",
       "4    5   KNN Escalado (n=8)              A-Type of travel              -   \n",
       "5    6   KNN Escalado (n=8)    A-Arrival delay in minutes              -   \n",
       "6    7   KNN Escalado (n=8)  A-Departure delay in minutes              -   \n",
       "7    8   KNN Escalado (n=8)             A-Flight Distance              -   \n",
       "8    9   KNN Escalado (n=8)             A-Online boarding              -   \n",
       "9   10   KNN Escalado (n=8)            A-Boleto económico              -   \n",
       "10  11  Logistic Regression                             A       0.874949   \n",
       "11  12  Logistic Regression                         A-Age              -   \n",
       "12  13  Logistic Regression                        A-Wifi              -   \n",
       "13  14  Logistic Regression      A-Inflight entertainment              -   \n",
       "14  15  Logistic Regression    A-Arrival delay in minutes              -   \n",
       "15  16  Logistic Regression  A-Departure delay in minutes              -   \n",
       "16  17  Logistic Regression              A-Type of travel              -   \n",
       "17  18  Logistic Regression             A-Flight Distance              -   \n",
       "18  19  Logistic Regression             A-Online boarding              -   \n",
       "19  20  Logistic Regression            A-Boleto económico              -   \n",
       "20  21          Naive Bayes                             A       0.861361   \n",
       "\n",
       "    Accuracy Test Precision    Recall Specificity  F1_Score  \n",
       "0        0.929935  0.923132  0.956088    0.895659  0.939321  \n",
       "1        0.929396         -         -           -         -  \n",
       "2        0.911880         -         -           -         -  \n",
       "3        0.931475         -         -           -         -  \n",
       "4        0.929935         -         -           -         -  \n",
       "5        0.930513         -         -           -         -  \n",
       "6        0.929974         -         -           -         -  \n",
       "7        0.932245         -         -           -         -  \n",
       "8        0.927164         -         -           -         -  \n",
       "9        0.929165         -         -           -         -  \n",
       "10       0.876001  0.882771  0.901045    0.891815  0.843177  \n",
       "11       0.875231         -         -           -         -  \n",
       "12       0.871574         -         -           -         -  \n",
       "13       0.875616         -         -           -         -  \n",
       "14       0.875423         -         -           -         -  \n",
       "15       0.875808         -         -           -         -  \n",
       "16       0.853557         -         -           -         -  \n",
       "17       0.875962         -         -           -         -  \n",
       "18       0.863374         -         -           -         -  \n",
       "19       0.873306         -         -           -         -  \n",
       "20       0.859425  0.861626  0.894895    0.813362  0.877946  "
      ]
     },
     "execution_count": 12,
     "metadata": {},
     "output_type": "execute_result"
    }
   ],
   "source": [
    "df_con = pd.read_excel('Dh_desafio_3_21_32.xlsx')"
   ]
  },
  {
   "cell_type": "markdown",
   "metadata": {},
   "source": [
    "**7.1. Análisis comparativo**\n",
    "\n",
    "En esta sección haremos una comparación respecto de las principales métricas que han arrojado los modelos que hemos especificado.\n",
    "\n",
    "¿Cuáles son los modelos que corrimos?\n",
    "\n",
    "**KNN**\n",
    "+ 1.\tModelo Escalado con 8 vecinos (k óptimo) y todas las features\n",
    "+ 2.\tModelo escalado con 8 vecinos (k óptimo) y sacando la variable Age\n",
    "+ 3.\tModelo escalado con 8 vecinos (k óptimo) y sacando la variable Inflight Wifi Service\n",
    "+ 4.\tModelo escalado con 8 vecinos (k óptimo) y sacando la variable Inflight entertainment\n",
    "+ 5.\tModelo escalado con 8 vecinos (k óptimo) y sacando la variable Type of Travel\n",
    "+ 6.\tModelo escalado con 8 vecinos (k óptimo) y sacando la variable Arrival delay in minutes\n",
    "+ 7.\tModelo escalado con 8 vecinos (k óptimo) y sacando la variable Departure delay in minutes\n",
    "+ 8.\tModelo escalado con 8 vecinos (k óptimo) y sacando la variable Flight Distance\n",
    "+ 9.\tModelo escalado con 8 vecinos (k óptimo) y sacando la variable Online Boarding\n",
    "+ 10.\tModelo escalado con 8 vecinos (k óptimo) y sacando la variable Boleto económico\n",
    "\n",
    "**REGRESIÓN LOGÍSTICA**\n",
    "+ 11.\tModelo Escalado con todas las features\n",
    "+ 12.\tModelo escalado con sacando la variable age\n",
    "+ 13.\tModelo escalado con sacando la variable wifi\n",
    "+ 14.\tModelo escalado con sacando la variable Inflight entertainment\n",
    "+ 15.\tModelo escalado con sacando la variable Arrival delay in minutes\n",
    "+ 16.\tModelo escalado con sacando la variable Departure delay in minutes\n",
    "+ 17.\tModelo escalado con sacando la variable Type of travel\n",
    "+ 18.\tModelo escalado con sacando la variable Flight distance\n",
    "+ 19.\tModelo escalado con sacando la variable Online boarding\n",
    "+ 20.\tModelo escalado con sacando la variable Boleto económico\n",
    "\n",
    "**NAIVE BAYES**\n",
    "+ 21.\tModelo Escalado con todas las features\n",
    "\n",
    "**OPTIMIZACION CON GRIDSEARCH**\n",
    "Teniendo en cuenta los tiempos que tuvimos para realizar el desafío, y considerando además la gran cantidad de datos con las que estamos trabajando (>100k) nos fue imposible aplicar esta herramienta en la práctica.\n",
    "Lo dejamos sentado en la notebook de clase en el apartado 6 con la intención de mostrar que comprendimos cómo funciona este artilugio. Lo realizamos para una muestra de 10k datos."
   ]
  },
  {
   "cell_type": "markdown",
   "metadata": {},
   "source": [
    "**7.2. Resultados**"
   ]
  },
  {
   "cell_type": "code",
   "execution_count": 13,
   "metadata": {},
   "outputs": [
    {
     "data": {
      "text/html": [
       "<div>\n",
       "<style scoped>\n",
       "    .dataframe tbody tr th:only-of-type {\n",
       "        vertical-align: middle;\n",
       "    }\n",
       "\n",
       "    .dataframe tbody tr th {\n",
       "        vertical-align: top;\n",
       "    }\n",
       "\n",
       "    .dataframe thead th {\n",
       "        text-align: right;\n",
       "    }\n",
       "</style>\n",
       "<table border=\"1\" class=\"dataframe\">\n",
       "  <thead>\n",
       "    <tr style=\"text-align: right;\">\n",
       "      <th></th>\n",
       "      <th>N</th>\n",
       "      <th>Modelo</th>\n",
       "      <th>Features</th>\n",
       "      <th>Accuracy Train</th>\n",
       "      <th>Accuracy Test</th>\n",
       "      <th>Precision</th>\n",
       "      <th>Recall</th>\n",
       "      <th>Specificity</th>\n",
       "      <th>F1_Score</th>\n",
       "    </tr>\n",
       "  </thead>\n",
       "  <tbody>\n",
       "    <tr>\n",
       "      <th>0</th>\n",
       "      <td>1</td>\n",
       "      <td>KNN Escalado (n=8)</td>\n",
       "      <td>A</td>\n",
       "      <td>0.943271</td>\n",
       "      <td>0.929935</td>\n",
       "      <td>0.923132</td>\n",
       "      <td>0.956088</td>\n",
       "      <td>0.895659</td>\n",
       "      <td>0.939321</td>\n",
       "    </tr>\n",
       "    <tr>\n",
       "      <th>1</th>\n",
       "      <td>2</td>\n",
       "      <td>KNN Escalado (n=8)</td>\n",
       "      <td>A-Age</td>\n",
       "      <td>-</td>\n",
       "      <td>0.929396</td>\n",
       "      <td>-</td>\n",
       "      <td>-</td>\n",
       "      <td>-</td>\n",
       "      <td>-</td>\n",
       "    </tr>\n",
       "    <tr>\n",
       "      <th>2</th>\n",
       "      <td>3</td>\n",
       "      <td>KNN Escalado (n=8)</td>\n",
       "      <td>A-Wifi</td>\n",
       "      <td>-</td>\n",
       "      <td>0.911880</td>\n",
       "      <td>-</td>\n",
       "      <td>-</td>\n",
       "      <td>-</td>\n",
       "      <td>-</td>\n",
       "    </tr>\n",
       "    <tr>\n",
       "      <th>3</th>\n",
       "      <td>4</td>\n",
       "      <td>KNN Escalado (n=8)</td>\n",
       "      <td>A-Inflight entertainment</td>\n",
       "      <td>-</td>\n",
       "      <td>0.931475</td>\n",
       "      <td>-</td>\n",
       "      <td>-</td>\n",
       "      <td>-</td>\n",
       "      <td>-</td>\n",
       "    </tr>\n",
       "    <tr>\n",
       "      <th>4</th>\n",
       "      <td>5</td>\n",
       "      <td>KNN Escalado (n=8)</td>\n",
       "      <td>A-Type of travel</td>\n",
       "      <td>-</td>\n",
       "      <td>0.929935</td>\n",
       "      <td>-</td>\n",
       "      <td>-</td>\n",
       "      <td>-</td>\n",
       "      <td>-</td>\n",
       "    </tr>\n",
       "    <tr>\n",
       "      <th>5</th>\n",
       "      <td>6</td>\n",
       "      <td>KNN Escalado (n=8)</td>\n",
       "      <td>A-Arrival delay in minutes</td>\n",
       "      <td>-</td>\n",
       "      <td>0.930513</td>\n",
       "      <td>-</td>\n",
       "      <td>-</td>\n",
       "      <td>-</td>\n",
       "      <td>-</td>\n",
       "    </tr>\n",
       "    <tr>\n",
       "      <th>6</th>\n",
       "      <td>7</td>\n",
       "      <td>KNN Escalado (n=8)</td>\n",
       "      <td>A-Departure delay in minutes</td>\n",
       "      <td>-</td>\n",
       "      <td>0.929974</td>\n",
       "      <td>-</td>\n",
       "      <td>-</td>\n",
       "      <td>-</td>\n",
       "      <td>-</td>\n",
       "    </tr>\n",
       "    <tr>\n",
       "      <th>7</th>\n",
       "      <td>8</td>\n",
       "      <td>KNN Escalado (n=8)</td>\n",
       "      <td>A-Flight Distance</td>\n",
       "      <td>-</td>\n",
       "      <td>0.932245</td>\n",
       "      <td>-</td>\n",
       "      <td>-</td>\n",
       "      <td>-</td>\n",
       "      <td>-</td>\n",
       "    </tr>\n",
       "    <tr>\n",
       "      <th>8</th>\n",
       "      <td>9</td>\n",
       "      <td>KNN Escalado (n=8)</td>\n",
       "      <td>A-Online boarding</td>\n",
       "      <td>-</td>\n",
       "      <td>0.927164</td>\n",
       "      <td>-</td>\n",
       "      <td>-</td>\n",
       "      <td>-</td>\n",
       "      <td>-</td>\n",
       "    </tr>\n",
       "    <tr>\n",
       "      <th>9</th>\n",
       "      <td>10</td>\n",
       "      <td>KNN Escalado (n=8)</td>\n",
       "      <td>A-Boleto económico</td>\n",
       "      <td>-</td>\n",
       "      <td>0.929165</td>\n",
       "      <td>-</td>\n",
       "      <td>-</td>\n",
       "      <td>-</td>\n",
       "      <td>-</td>\n",
       "    </tr>\n",
       "    <tr>\n",
       "      <th>10</th>\n",
       "      <td>11</td>\n",
       "      <td>Logistic Regression</td>\n",
       "      <td>A</td>\n",
       "      <td>0.874949</td>\n",
       "      <td>0.876001</td>\n",
       "      <td>0.882771</td>\n",
       "      <td>0.901045</td>\n",
       "      <td>0.891815</td>\n",
       "      <td>0.843177</td>\n",
       "    </tr>\n",
       "    <tr>\n",
       "      <th>11</th>\n",
       "      <td>12</td>\n",
       "      <td>Logistic Regression</td>\n",
       "      <td>A-Age</td>\n",
       "      <td>-</td>\n",
       "      <td>0.875231</td>\n",
       "      <td>-</td>\n",
       "      <td>-</td>\n",
       "      <td>-</td>\n",
       "      <td>-</td>\n",
       "    </tr>\n",
       "    <tr>\n",
       "      <th>12</th>\n",
       "      <td>13</td>\n",
       "      <td>Logistic Regression</td>\n",
       "      <td>A-Wifi</td>\n",
       "      <td>-</td>\n",
       "      <td>0.871574</td>\n",
       "      <td>-</td>\n",
       "      <td>-</td>\n",
       "      <td>-</td>\n",
       "      <td>-</td>\n",
       "    </tr>\n",
       "    <tr>\n",
       "      <th>13</th>\n",
       "      <td>14</td>\n",
       "      <td>Logistic Regression</td>\n",
       "      <td>A-Inflight entertainment</td>\n",
       "      <td>-</td>\n",
       "      <td>0.875616</td>\n",
       "      <td>-</td>\n",
       "      <td>-</td>\n",
       "      <td>-</td>\n",
       "      <td>-</td>\n",
       "    </tr>\n",
       "    <tr>\n",
       "      <th>14</th>\n",
       "      <td>15</td>\n",
       "      <td>Logistic Regression</td>\n",
       "      <td>A-Arrival delay in minutes</td>\n",
       "      <td>-</td>\n",
       "      <td>0.875423</td>\n",
       "      <td>-</td>\n",
       "      <td>-</td>\n",
       "      <td>-</td>\n",
       "      <td>-</td>\n",
       "    </tr>\n",
       "    <tr>\n",
       "      <th>15</th>\n",
       "      <td>16</td>\n",
       "      <td>Logistic Regression</td>\n",
       "      <td>A-Departure delay in minutes</td>\n",
       "      <td>-</td>\n",
       "      <td>0.875808</td>\n",
       "      <td>-</td>\n",
       "      <td>-</td>\n",
       "      <td>-</td>\n",
       "      <td>-</td>\n",
       "    </tr>\n",
       "    <tr>\n",
       "      <th>16</th>\n",
       "      <td>17</td>\n",
       "      <td>Logistic Regression</td>\n",
       "      <td>A-Type of travel</td>\n",
       "      <td>-</td>\n",
       "      <td>0.853557</td>\n",
       "      <td>-</td>\n",
       "      <td>-</td>\n",
       "      <td>-</td>\n",
       "      <td>-</td>\n",
       "    </tr>\n",
       "    <tr>\n",
       "      <th>17</th>\n",
       "      <td>18</td>\n",
       "      <td>Logistic Regression</td>\n",
       "      <td>A-Flight Distance</td>\n",
       "      <td>-</td>\n",
       "      <td>0.875962</td>\n",
       "      <td>-</td>\n",
       "      <td>-</td>\n",
       "      <td>-</td>\n",
       "      <td>-</td>\n",
       "    </tr>\n",
       "    <tr>\n",
       "      <th>18</th>\n",
       "      <td>19</td>\n",
       "      <td>Logistic Regression</td>\n",
       "      <td>A-Online boarding</td>\n",
       "      <td>-</td>\n",
       "      <td>0.863374</td>\n",
       "      <td>-</td>\n",
       "      <td>-</td>\n",
       "      <td>-</td>\n",
       "      <td>-</td>\n",
       "    </tr>\n",
       "    <tr>\n",
       "      <th>19</th>\n",
       "      <td>20</td>\n",
       "      <td>Logistic Regression</td>\n",
       "      <td>A-Boleto económico</td>\n",
       "      <td>-</td>\n",
       "      <td>0.873306</td>\n",
       "      <td>-</td>\n",
       "      <td>-</td>\n",
       "      <td>-</td>\n",
       "      <td>-</td>\n",
       "    </tr>\n",
       "    <tr>\n",
       "      <th>20</th>\n",
       "      <td>21</td>\n",
       "      <td>Naive Bayes</td>\n",
       "      <td>A</td>\n",
       "      <td>0.861361</td>\n",
       "      <td>0.859425</td>\n",
       "      <td>0.861626</td>\n",
       "      <td>0.894895</td>\n",
       "      <td>0.813362</td>\n",
       "      <td>0.877946</td>\n",
       "    </tr>\n",
       "  </tbody>\n",
       "</table>\n",
       "</div>"
      ],
      "text/plain": [
       "     N               Modelo                      Features Accuracy Train  \\\n",
       "0    1   KNN Escalado (n=8)                             A       0.943271   \n",
       "1    2   KNN Escalado (n=8)                         A-Age              -   \n",
       "2    3   KNN Escalado (n=8)                        A-Wifi              -   \n",
       "3    4   KNN Escalado (n=8)      A-Inflight entertainment              -   \n",
       "4    5   KNN Escalado (n=8)              A-Type of travel              -   \n",
       "5    6   KNN Escalado (n=8)    A-Arrival delay in minutes              -   \n",
       "6    7   KNN Escalado (n=8)  A-Departure delay in minutes              -   \n",
       "7    8   KNN Escalado (n=8)             A-Flight Distance              -   \n",
       "8    9   KNN Escalado (n=8)             A-Online boarding              -   \n",
       "9   10   KNN Escalado (n=8)            A-Boleto económico              -   \n",
       "10  11  Logistic Regression                             A       0.874949   \n",
       "11  12  Logistic Regression                         A-Age              -   \n",
       "12  13  Logistic Regression                        A-Wifi              -   \n",
       "13  14  Logistic Regression      A-Inflight entertainment              -   \n",
       "14  15  Logistic Regression    A-Arrival delay in minutes              -   \n",
       "15  16  Logistic Regression  A-Departure delay in minutes              -   \n",
       "16  17  Logistic Regression              A-Type of travel              -   \n",
       "17  18  Logistic Regression             A-Flight Distance              -   \n",
       "18  19  Logistic Regression             A-Online boarding              -   \n",
       "19  20  Logistic Regression            A-Boleto económico              -   \n",
       "20  21          Naive Bayes                             A       0.861361   \n",
       "\n",
       "    Accuracy Test Precision    Recall Specificity  F1_Score  \n",
       "0        0.929935  0.923132  0.956088    0.895659  0.939321  \n",
       "1        0.929396         -         -           -         -  \n",
       "2        0.911880         -         -           -         -  \n",
       "3        0.931475         -         -           -         -  \n",
       "4        0.929935         -         -           -         -  \n",
       "5        0.930513         -         -           -         -  \n",
       "6        0.929974         -         -           -         -  \n",
       "7        0.932245         -         -           -         -  \n",
       "8        0.927164         -         -           -         -  \n",
       "9        0.929165         -         -           -         -  \n",
       "10       0.876001  0.882771  0.901045    0.891815  0.843177  \n",
       "11       0.875231         -         -           -         -  \n",
       "12       0.871574         -         -           -         -  \n",
       "13       0.875616         -         -           -         -  \n",
       "14       0.875423         -         -           -         -  \n",
       "15       0.875808         -         -           -         -  \n",
       "16       0.853557         -         -           -         -  \n",
       "17       0.875962         -         -           -         -  \n",
       "18       0.863374         -         -           -         -  \n",
       "19       0.873306         -         -           -         -  \n",
       "20       0.859425  0.861626  0.894895    0.813362  0.877946  "
      ]
     },
     "execution_count": 13,
     "metadata": {},
     "output_type": "execute_result"
    }
   ],
   "source": [
    "df_con"
   ]
  },
  {
   "cell_type": "markdown",
   "metadata": {},
   "source": [
    "**Referencia columna Features**: El valor A hace referencia a la utilizacion de las features en el modelo"
   ]
  },
  {
   "cell_type": "markdown",
   "metadata": {},
   "source": [
    "**7.3. Modelo Ganador**\n",
    "\n",
    "El modelo que mejor performance ha logrado a nivel agregado, considerando no sólo los valores de accuracy tanto en train como en test sino además las métricas que provienen de observar la matriz de confusión (recall, precisión, especificidad, etc.) ha sido el número 1.\n",
    "\n",
    "En este modelo hemos instanciado un modelo clasificador KNN que incluye todas las features y tiene un número de 8 vecinos (valor que surge de la optimización de dicho hiperparámetro).\n"
   ]
  },
  {
   "cell_type": "code",
   "execution_count": 17,
   "metadata": {},
   "outputs": [
    {
     "data": {
      "text/plain": [
       "N                                  1\n",
       "Modelo            KNN Escalado (n=8)\n",
       "Features                           A\n",
       "Accuracy Train              0.943271\n",
       "Accuracy Test               0.929935\n",
       "Precision                   0.923132\n",
       "Recall                      0.956088\n",
       "Specificity                 0.895659\n",
       "F1_Score                    0.939321\n",
       "Name: 0, dtype: object"
      ]
     },
     "execution_count": 17,
     "metadata": {},
     "output_type": "execute_result"
    }
   ],
   "source": [
    "winner_model = df_con.loc[0]\n",
    "winner_model"
   ]
  },
  {
   "cell_type": "markdown",
   "metadata": {},
   "source": [
    "# 8. Recomendacion de mejoras de negocio"
   ]
  },
  {
   "cell_type": "markdown",
   "metadata": {},
   "source": [
    "En vistas a mejorar el servicio prestado por la aerolínea decidimos proponer ampliar el paquete de beneficios brindados a aquel sector que detectamos como clientes insatisfechos, dentro de los cuales encontramos como espacios de mejora:\n",
    "\n",
    "+ Viajan en la clase Económica. \n",
    "+ Tienen entre 30 y 50 años \n",
    "+ Cuyo vuelo demore más de una hora\n",
    "+ El vuelo en cuestión es \"Media Distancia\" (entre 420km y 1200km)\n",
    "+ Online boarding\n",
    "+ Wifi\n",
    "+ Enterteiment\n",
    "+ Type of travel\n",
    "\n",
    "Dentro de este paquete vamos a ofrecer servicios mejorados en cuanto:\n",
    "\n",
    "+ Mayores prestaciones a las personas que viajan en clase económica: Desde descuentos, acumulacion de millas, menu gourmet mas abarcativo, salas VIP para el disfrute en el pre embarque.\n",
    "+ Para el rango etario 30-50 proponemos ofrecer comodidades ergonomicas, incluyan almohadillas para viaje (de tipo descartable ) y aumentar la oferta de peliculas, juegos, espectaculos televisados y musica, generando acuerdos con proveedores de entretenimiento.\n",
    "+ Aumentar la frecuencia de viaje, generando join-ventures con socios locales, para aumentar los tiempos de frecuencia.\n",
    "+ Reducir la tarifa de Wi-fi, aumentando velocidad de navegacion y mejorando la conectividad.\n",
    "+ Mejorar a nivel funcional el sistema de reservas online."
   ]
  }
 ],
 "metadata": {
  "kernelspec": {
   "display_name": "Python 3",
   "language": "python",
   "name": "python3"
  },
  "language_info": {
   "codemirror_mode": {
    "name": "ipython",
    "version": 3
   },
   "file_extension": ".py",
   "mimetype": "text/x-python",
   "name": "python",
   "nbconvert_exporter": "python",
   "pygments_lexer": "ipython3",
   "version": "3.7.9"
  }
 },
 "nbformat": 4,
 "nbformat_minor": 4
}
