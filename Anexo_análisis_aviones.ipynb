{
 "cells": [
  {
   "cell_type": "markdown",
   "metadata": {},
   "source": [
    "# Importamos Librerias "
   ]
  },
  {
   "cell_type": "code",
   "execution_count": 82,
   "metadata": {},
   "outputs": [],
   "source": [
    "import pandas as pd\n",
    "import numpy as np\n",
    "import seaborn as sns\n",
    "from matplotlib.colors import ListedColormap\n",
    "import matplotlib.pyplot as plt\n",
    "from sklearn.metrics import accuracy_score, precision_score, recall_score, f1_score\n",
    "%matplotlib inline\n",
    "dftrain= pd.read_csv(\"train.csv\", delimiter=\";\")\n",
    "dftrain = dftrain.drop([\"Unnamed: 0\"], axis=1)\n",
    "#Creacion de Variables dummies\n",
    "dftrain = dftrain.join(pd.get_dummies(dftrain.satisfaction, prefix=\"satis\"))\n",
    "dftrain = dftrain.join(pd.get_dummies(dftrain.Gender, prefix=\"gender\"))\n",
    "dftrain = dftrain.join(pd.get_dummies(dftrain[\"Customer Type\"], prefix=\"cliente\"))\n",
    "dftrain = dftrain.join(pd.get_dummies(dftrain[\"Type of Travel\"], prefix=\"viaje\"))\n",
    "dftrain = dftrain.join(pd.get_dummies(dftrain.Class, prefix=\"boleto\"))"
   ]
  },
  {
   "cell_type": "code",
   "execution_count": 83,
   "metadata": {},
   "outputs": [
    {
     "data": {
      "text/plain": [
       "Index(['id', 'Gender', 'Customer Type', 'Age', 'Type of Travel', 'Class',\n",
       "       'Flight Distance', 'Inflight wifi service',\n",
       "       'Departure/Arrival time convenient', 'Ease of Online booking',\n",
       "       'Gate location', 'Food and drink', 'Online boarding', 'Seat comfort',\n",
       "       'Inflight entertainment', 'On-board service', 'Leg room service',\n",
       "       'Baggage handling', 'Checkin service', 'Inflight service',\n",
       "       'Cleanliness', 'Departure Delay in Minutes', 'Arrival Delay in Minutes',\n",
       "       'satisfaction', 'satis_neutral or dissatisfied', 'satis_satisfied',\n",
       "       'gender_Female', 'gender_Male', 'cliente_Loyal Customer',\n",
       "       'cliente_disloyal Customer', 'viaje_Business travel',\n",
       "       'viaje_Personal Travel', 'boleto_Business', 'boleto_Eco',\n",
       "       'boleto_Eco Plus'],\n",
       "      dtype='object')"
      ]
     },
     "execution_count": 83,
     "metadata": {},
     "output_type": "execute_result"
    }
   ],
   "source": [
    "dftrain.columns"
   ]
  },
  {
   "cell_type": "markdown",
   "metadata": {},
   "source": [
    "## Objetivo de la Notebook\n",
    "\n",
    "En esta Notebook Planteamos dos tipos de modelos distintos, KNN y Logistic Regression, donde iremos instanciando modelos con diferentes variables e ir analizando su Accuracy.\n",
    "\n",
    "### Decision de estructuras de datos\n",
    "Utilizamos la estructura de datos '**Conjuntos**' o '**Sets**' por las operaciones se pueden realizar con ellos.\n",
    "\n",
    "Por ende, para ir sacando una variable a la vez haciendo una iteracion deberiamos ir recorriendo el Conjunto de \n",
    "variables a sacar y convirtiendo ese elemento a un conjunto ya que por si solo es un string y luego hacer **la diferencia del unico elemento con el total de las columnas** (quedandonos con todas las variables menos el elemento i de la iteracion que seria la columna a sacar). Entonces al hacer un for va sacar siempre la variable i sin eliminar ni sacar una que fue testeada anteriormemnte\n",
    "\n",
    "- Creamos el conjunto de las variables a sacar"
   ]
  },
  {
   "cell_type": "code",
   "execution_count": 84,
   "metadata": {},
   "outputs": [],
   "source": [
    "var_a_sacar= {'viaje_Personal Travel','Inflight entertainment','Inflight wifi service','Online boarding','Flight Distance','Departure Delay in Minutes','Arrival Delay in Minutes','Age','boleto_Eco','cliente_Loyal Customer'}\n",
    "nueva = var_a_sacar.copy()"
   ]
  },
  {
   "cell_type": "code",
   "execution_count": 86,
   "metadata": {},
   "outputs": [
    {
     "data": {
      "text/plain": [
       "{'Age',\n",
       " 'Arrival Delay in Minutes',\n",
       " 'Departure Delay in Minutes',\n",
       " 'Flight Distance',\n",
       " 'Inflight entertainment',\n",
       " 'Inflight wifi service',\n",
       " 'Online boarding',\n",
       " 'boleto_Eco',\n",
       " 'cliente_Loyal Customer',\n",
       " 'viaje_Personal Travel'}"
      ]
     },
     "execution_count": 86,
     "metadata": {},
     "output_type": "execute_result"
    }
   ],
   "source": [
    "nueva"
   ]
  },
  {
   "cell_type": "code",
   "execution_count": 87,
   "metadata": {},
   "outputs": [],
   "source": [
    "from sklearn.neighbors import KNeighborsClassifier\n",
    "from sklearn.model_selection import train_test_split\n",
    "from sklearn.metrics import accuracy_score"
   ]
  },
  {
   "cell_type": "code",
   "execution_count": 88,
   "metadata": {},
   "outputs": [],
   "source": [
    "dftrain.drop(columns=[\"id\",\"satisfaction\", \"satis_satisfied\", \"Gender\", \"Customer Type\", \"Type of Travel\", \"Class\"], inplace=True)"
   ]
  },
  {
   "cell_type": "code",
   "execution_count": 89,
   "metadata": {},
   "outputs": [
    {
     "data": {
      "text/plain": [
       "Index(['Age', 'Flight Distance', 'Inflight wifi service',\n",
       "       'Departure/Arrival time convenient', 'Ease of Online booking',\n",
       "       'Gate location', 'Food and drink', 'Online boarding', 'Seat comfort',\n",
       "       'Inflight entertainment', 'On-board service', 'Leg room service',\n",
       "       'Baggage handling', 'Checkin service', 'Inflight service',\n",
       "       'Cleanliness', 'Departure Delay in Minutes', 'Arrival Delay in Minutes',\n",
       "       'satis_neutral or dissatisfied', 'gender_Female', 'gender_Male',\n",
       "       'cliente_Loyal Customer', 'cliente_disloyal Customer',\n",
       "       'viaje_Business travel', 'viaje_Personal Travel', 'boleto_Business',\n",
       "       'boleto_Eco', 'boleto_Eco Plus'],\n",
       "      dtype='object')"
      ]
     },
     "execution_count": 89,
     "metadata": {},
     "output_type": "execute_result"
    }
   ],
   "source": [
    "dftrain.columns"
   ]
  },
  {
   "cell_type": "code",
   "execution_count": 112,
   "metadata": {},
   "outputs": [],
   "source": [
    "columnas_knn = {'Age', 'Flight Distance', 'Inflight wifi service',\n",
    "       'Departure/Arrival time convenient', 'Ease of Online booking',\n",
    "       'Gate location', 'Food and drink', 'Online boarding', 'Seat comfort',\n",
    "       'Inflight entertainment', 'On-board service', 'Leg room service',\n",
    "       'Baggage handling', 'Checkin service', 'Inflight service',\n",
    "       'Cleanliness', 'Departure Delay in Minutes', 'Arrival Delay in Minutes',\n",
    "       'gender_Female', 'gender_Male', 'cliente_Loyal Customer',\n",
    "       'cliente_disloyal Customer', 'viaje_Business travel',\n",
    "       'viaje_Personal Travel', 'boleto_Business', 'boleto_Eco',\n",
    "       'boleto_Eco Plus'}"
   ]
  },
  {
   "cell_type": "markdown",
   "metadata": {},
   "source": [
    "#### Modelo KNN"
   ]
  },
  {
   "cell_type": "code",
   "execution_count": 97,
   "metadata": {},
   "outputs": [
    {
     "name": "stdout",
     "output_type": "stream",
     "text": [
      "Columna a sacar: {'viaje_Personal Travel'}\n",
      "Columnas utilizadas:\n",
      " {'Cleanliness', 'On-board service', 'gender_Female', 'Age', 'Departure Delay in Minutes', 'boleto_Eco', 'Food and drink', 'Online boarding', 'boleto_Eco Plus', 'gender_Male', 'Ease of Online booking', 'Baggage handling', 'Leg room service', 'cliente_Loyal Customer', 'viaje_Business travel', 'Checkin service', 'Flight Distance', 'cliente_disloyal Customer', 'Arrival Delay in Minutes', 'Seat comfort', 'Inflight wifi service', 'Inflight entertainment', 'Inflight service', 'Gate location', 'Departure/Arrival time convenient', 'boleto_Business'}\n",
      "0.7446104096088697\n",
      "\n",
      "Columna a sacar: {'Flight Distance'}\n",
      "Columnas utilizadas:\n",
      " {'Cleanliness', 'viaje_Personal Travel', 'On-board service', 'gender_Female', 'Age', 'Departure Delay in Minutes', 'boleto_Eco', 'Food and drink', 'Online boarding', 'boleto_Eco Plus', 'gender_Male', 'Ease of Online booking', 'Baggage handling', 'Leg room service', 'cliente_Loyal Customer', 'viaje_Business travel', 'Checkin service', 'cliente_disloyal Customer', 'Arrival Delay in Minutes', 'Seat comfort', 'Inflight wifi service', 'Inflight entertainment', 'Inflight service', 'Gate location', 'Departure/Arrival time convenient', 'boleto_Business'}\n",
      "0.8790421927933477\n",
      "\n",
      "Columna a sacar: {'Departure Delay in Minutes'}\n",
      "Columnas utilizadas:\n",
      " {'Cleanliness', 'viaje_Personal Travel', 'On-board service', 'gender_Female', 'Age', 'boleto_Eco', 'Food and drink', 'Online boarding', 'boleto_Eco Plus', 'gender_Male', 'Ease of Online booking', 'Baggage handling', 'Leg room service', 'cliente_Loyal Customer', 'viaje_Business travel', 'Checkin service', 'Flight Distance', 'cliente_disloyal Customer', 'Arrival Delay in Minutes', 'Seat comfort', 'Inflight wifi service', 'Inflight entertainment', 'Inflight service', 'Gate location', 'Departure/Arrival time convenient', 'boleto_Business'}\n",
      "0.7634739759778257\n",
      "\n",
      "Columna a sacar: {'Age'}\n",
      "Columnas utilizadas:\n",
      " {'Cleanliness', 'viaje_Personal Travel', 'On-board service', 'gender_Female', 'Departure Delay in Minutes', 'boleto_Eco', 'Food and drink', 'Online boarding', 'boleto_Eco Plus', 'gender_Male', 'Ease of Online booking', 'Baggage handling', 'Leg room service', 'cliente_Loyal Customer', 'viaje_Business travel', 'Checkin service', 'Flight Distance', 'cliente_disloyal Customer', 'Arrival Delay in Minutes', 'Seat comfort', 'Inflight wifi service', 'Inflight entertainment', 'Inflight service', 'Gate location', 'Departure/Arrival time convenient', 'boleto_Business'}\n",
      "0.7847243609485679\n",
      "\n",
      "Columna a sacar: {'boleto_Eco'}\n",
      "Columnas utilizadas:\n",
      " {'Cleanliness', 'viaje_Personal Travel', 'On-board service', 'gender_Female', 'Age', 'Departure Delay in Minutes', 'Food and drink', 'Online boarding', 'boleto_Eco Plus', 'gender_Male', 'Ease of Online booking', 'Baggage handling', 'Leg room service', 'cliente_Loyal Customer', 'viaje_Business travel', 'Checkin service', 'Flight Distance', 'cliente_disloyal Customer', 'Arrival Delay in Minutes', 'Seat comfort', 'Inflight wifi service', 'Inflight entertainment', 'Inflight service', 'Gate location', 'Departure/Arrival time convenient', 'boleto_Business'}\n",
      "0.7448798891284263\n",
      "\n",
      "Columna a sacar: {'Arrival Delay in Minutes'}\n",
      "Columnas utilizadas:\n",
      " {'Cleanliness', 'viaje_Personal Travel', 'On-board service', 'gender_Female', 'Age', 'Departure Delay in Minutes', 'boleto_Eco', 'Food and drink', 'Online boarding', 'boleto_Eco Plus', 'gender_Male', 'Ease of Online booking', 'Baggage handling', 'Leg room service', 'cliente_Loyal Customer', 'viaje_Business travel', 'Checkin service', 'Flight Distance', 'cliente_disloyal Customer', 'Seat comfort', 'Inflight wifi service', 'Inflight entertainment', 'Inflight service', 'Gate location', 'Departure/Arrival time convenient', 'boleto_Business'}\n",
      "0.7638974437942716\n",
      "\n",
      "Columna a sacar: {'Inflight wifi service'}\n",
      "Columnas utilizadas:\n",
      " {'Cleanliness', 'viaje_Personal Travel', 'On-board service', 'gender_Female', 'Age', 'Departure Delay in Minutes', 'boleto_Eco', 'Food and drink', 'Online boarding', 'boleto_Eco Plus', 'gender_Male', 'Ease of Online booking', 'Baggage handling', 'Leg room service', 'cliente_Loyal Customer', 'viaje_Business travel', 'Checkin service', 'Flight Distance', 'cliente_disloyal Customer', 'Arrival Delay in Minutes', 'Seat comfort', 'Inflight entertainment', 'Inflight service', 'Gate location', 'Departure/Arrival time convenient', 'boleto_Business'}\n",
      "0.7371419772097321\n",
      "\n",
      "Columna a sacar: {'Online boarding'}\n",
      "Columnas utilizadas:\n",
      " {'Cleanliness', 'viaje_Personal Travel', 'On-board service', 'gender_Female', 'Age', 'Departure Delay in Minutes', 'boleto_Eco', 'Food and drink', 'boleto_Eco Plus', 'gender_Male', 'Ease of Online booking', 'Baggage handling', 'Leg room service', 'cliente_Loyal Customer', 'viaje_Business travel', 'Checkin service', 'Flight Distance', 'cliente_disloyal Customer', 'Arrival Delay in Minutes', 'Seat comfort', 'Inflight wifi service', 'Inflight entertainment', 'Inflight service', 'Gate location', 'Departure/Arrival time convenient', 'boleto_Business'}\n",
      "0.7342546966430551\n",
      "\n",
      "Columna a sacar: {'Inflight entertainment'}\n",
      "Columnas utilizadas:\n",
      " {'Cleanliness', 'viaje_Personal Travel', 'On-board service', 'gender_Female', 'Age', 'Departure Delay in Minutes', 'boleto_Eco', 'Food and drink', 'Online boarding', 'boleto_Eco Plus', 'gender_Male', 'Ease of Online booking', 'Baggage handling', 'Leg room service', 'cliente_Loyal Customer', 'viaje_Business travel', 'Checkin service', 'Flight Distance', 'cliente_disloyal Customer', 'Arrival Delay in Minutes', 'Seat comfort', 'Inflight wifi service', 'Inflight service', 'Gate location', 'Departure/Arrival time convenient', 'boleto_Business'}\n",
      "0.7436479827533108\n",
      "\n",
      "Columna a sacar: {'cliente_Loyal Customer'}\n",
      "Columnas utilizadas:\n",
      " {'Cleanliness', 'viaje_Personal Travel', 'On-board service', 'gender_Female', 'Age', 'Departure Delay in Minutes', 'boleto_Eco', 'Food and drink', 'Online boarding', 'boleto_Eco Plus', 'gender_Male', 'Ease of Online booking', 'Baggage handling', 'Leg room service', 'viaje_Business travel', 'Checkin service', 'Flight Distance', 'cliente_disloyal Customer', 'Arrival Delay in Minutes', 'Seat comfort', 'Inflight wifi service', 'Inflight entertainment', 'Inflight service', 'Gate location', 'Departure/Arrival time convenient', 'boleto_Business'}\n",
      "0.7456498306128734\n",
      "\n"
     ]
    }
   ],
   "source": [
    "for i in var_a_sacar:\n",
    "    conjunto = {i}\n",
    "    print('Columna a sacar:', conjunto)\n",
    "    nuevas_col = columnas_knn - conjunto\n",
    "    print('Columnas utilizadas:\\n', nuevas_col)\n",
    "    knn = KNeighborsClassifier(n_neighbors=5)\n",
    "    X_train = dftrain.loc[:,nuevas_col]\n",
    "    y_train = dftrain[\"satis_neutral or dissatisfied\"]\n",
    "    X_train, X_test, y_train, y_test = train_test_split(X_train, y_train, random_state = 0)\n",
    "    knn.fit(X_train, y_train);\n",
    "    y_pred = knn.predict(X_test)\n",
    "    print(accuracy_score(y_test, y_pred))\n",
    "    print()"
   ]
  },
  {
   "cell_type": "markdown",
   "metadata": {},
   "source": [
    "### Modelo Regresion Logistica"
   ]
  },
  {
   "cell_type": "code",
   "execution_count": 98,
   "metadata": {},
   "outputs": [],
   "source": [
    "import pandas as pd\n",
    "import numpy as np\n",
    "import seaborn as sns\n",
    "from matplotlib.colors import ListedColormap\n",
    "import matplotlib.pyplot as plt\n",
    "from sklearn.metrics import accuracy_score, precision_score, recall_score, f1_score\n",
    "%matplotlib inline\n",
    "dftrain= pd.read_csv(\"train.csv\", delimiter=\";\")\n",
    "dftrain = dftrain.drop([\"Unnamed: 0\"], axis=1)\n",
    "dftrain = dftrain.join(pd.get_dummies(dftrain.satisfaction, prefix=\"satis\"))\n",
    "dftrain = dftrain.join(pd.get_dummies(dftrain.Gender, prefix=\"gender\"))\n",
    "dftrain = dftrain.join(pd.get_dummies(dftrain[\"Customer Type\"], prefix=\"cliente\"))\n",
    "dftrain = dftrain.join(pd.get_dummies(dftrain[\"Type of Travel\"], prefix=\"viaje\"))\n",
    "dftrain = dftrain.join(pd.get_dummies(dftrain.Class, prefix=\"boleto\"))"
   ]
  },
  {
   "cell_type": "code",
   "execution_count": 99,
   "metadata": {},
   "outputs": [],
   "source": [
    "dftrain.drop(columns=[\"id\",\"satisfaction\", \"satis_satisfied\", \"Gender\", \"Customer Type\", \"Type of Travel\", \"Class\"], inplace=True)"
   ]
  },
  {
   "cell_type": "code",
   "execution_count": 100,
   "metadata": {},
   "outputs": [
    {
     "data": {
      "text/plain": [
       "Index(['Age', 'Flight Distance', 'Inflight wifi service',\n",
       "       'Departure/Arrival time convenient', 'Ease of Online booking',\n",
       "       'Gate location', 'Food and drink', 'Online boarding', 'Seat comfort',\n",
       "       'Inflight entertainment', 'On-board service', 'Leg room service',\n",
       "       'Baggage handling', 'Checkin service', 'Inflight service',\n",
       "       'Cleanliness', 'Departure Delay in Minutes', 'Arrival Delay in Minutes',\n",
       "       'satis_neutral or dissatisfied', 'gender_Female', 'gender_Male',\n",
       "       'cliente_Loyal Customer', 'cliente_disloyal Customer',\n",
       "       'viaje_Business travel', 'viaje_Personal Travel', 'boleto_Business',\n",
       "       'boleto_Eco', 'boleto_Eco Plus'],\n",
       "      dtype='object')"
      ]
     },
     "execution_count": 100,
     "metadata": {},
     "output_type": "execute_result"
    }
   ],
   "source": [
    "dftrain.columns"
   ]
  },
  {
   "cell_type": "code",
   "execution_count": 106,
   "metadata": {},
   "outputs": [],
   "source": [
    "columnas_lr = {'Age', 'Flight Distance', 'Inflight wifi service',\n",
    "       'Departure/Arrival time convenient', 'Ease of Online booking',\n",
    "       'Gate location', 'Food and drink', 'Online boarding', 'Seat comfort',\n",
    "       'Inflight entertainment', 'On-board service', 'Leg room service',\n",
    "       'Baggage handling', 'Checkin service', 'Inflight service',\n",
    "       'Cleanliness', 'Departure Delay in Minutes', 'Arrival Delay in Minutes',\n",
    "       'gender_Female', 'gender_Male', 'cliente_Loyal Customer',\n",
    "       'cliente_disloyal Customer', 'viaje_Business travel',\n",
    "       'viaje_Personal Travel', 'boleto_Business', 'boleto_Eco',\n",
    "       'boleto_Eco Plus'}"
   ]
  },
  {
   "cell_type": "code",
   "execution_count": 107,
   "metadata": {},
   "outputs": [],
   "source": [
    "var_a_sacar_lr= {'viaje_Personal Travel','Inflight entertainment','Inflight wifi service','Online boarding','Flight Distance','Departure Delay in Minutes','Arrival Delay in Minutes','Age','boleto_Eco','cliente_Loyal Customer'}\n",
    "nueva_lr = var_a_sacar.copy()"
   ]
  },
  {
   "cell_type": "code",
   "execution_count": 108,
   "metadata": {},
   "outputs": [],
   "source": [
    "from sklearn.model_selection import train_test_split\n",
    "from sklearn.preprocessing import StandardScaler\n",
    "from sklearn.metrics import accuracy_score, confusion_matrix, classification_report\n",
    "from sklearn.linear_model import LogisticRegression"
   ]
  },
  {
   "cell_type": "code",
   "execution_count": 111,
   "metadata": {},
   "outputs": [
    {
     "name": "stdout",
     "output_type": "stream",
     "text": [
      "Columa sacada: {'viaje_Personal Travel'}\n",
      "Columnas utilzadas: \n",
      " {'Cleanliness', 'On-board service', 'gender_Female', 'Age', 'Departure Delay in Minutes', 'boleto_Eco', 'Food and drink', 'Online boarding', 'boleto_Eco Plus', 'gender_Male', 'Ease of Online booking', 'Baggage handling', 'Leg room service', 'cliente_Loyal Customer', 'viaje_Business travel', 'Checkin service', 'Flight Distance', 'cliente_disloyal Customer', 'Arrival Delay in Minutes', 'Seat comfort', 'Inflight wifi service', 'Inflight entertainment', 'Inflight service', 'Gate location', 'Departure/Arrival time convenient', 'boleto_Business'}\n",
      "0.8749486705677035\n",
      "0.8760009239297813\n",
      "\n",
      "Columa sacada: {'Flight Distance'}\n",
      "Columnas utilzadas: \n",
      " {'Cleanliness', 'viaje_Personal Travel', 'On-board service', 'gender_Female', 'Age', 'Departure Delay in Minutes', 'boleto_Eco', 'Food and drink', 'Online boarding', 'boleto_Eco Plus', 'gender_Male', 'Ease of Online booking', 'Baggage handling', 'Leg room service', 'cliente_Loyal Customer', 'viaje_Business travel', 'Checkin service', 'cliente_disloyal Customer', 'Arrival Delay in Minutes', 'Seat comfort', 'Inflight wifi service', 'Inflight entertainment', 'Inflight service', 'Gate location', 'Departure/Arrival time convenient', 'boleto_Business'}\n",
      "0.8747690175546659\n",
      "0.875962426855559\n",
      "\n",
      "Columa sacada: {'Departure Delay in Minutes'}\n",
      "Columnas utilzadas: \n",
      " {'Cleanliness', 'viaje_Personal Travel', 'On-board service', 'gender_Female', 'Age', 'boleto_Eco', 'Food and drink', 'Online boarding', 'boleto_Eco Plus', 'gender_Male', 'Ease of Online booking', 'Baggage handling', 'Leg room service', 'cliente_Loyal Customer', 'viaje_Business travel', 'Checkin service', 'Flight Distance', 'cliente_disloyal Customer', 'Arrival Delay in Minutes', 'Seat comfort', 'Inflight wifi service', 'Inflight entertainment', 'Inflight service', 'Gate location', 'Departure/Arrival time convenient', 'boleto_Business'}\n",
      "0.8750256647161483\n",
      "0.8758084385586695\n",
      "\n",
      "Columa sacada: {'Age'}\n",
      "Columnas utilzadas: \n",
      " {'Cleanliness', 'viaje_Personal Travel', 'On-board service', 'gender_Female', 'Departure Delay in Minutes', 'boleto_Eco', 'Food and drink', 'Online boarding', 'boleto_Eco Plus', 'gender_Male', 'Ease of Online booking', 'Baggage handling', 'Leg room service', 'cliente_Loyal Customer', 'viaje_Business travel', 'Checkin service', 'Flight Distance', 'cliente_disloyal Customer', 'Arrival Delay in Minutes', 'Seat comfort', 'Inflight wifi service', 'Inflight entertainment', 'Inflight service', 'Gate location', 'Departure/Arrival time convenient', 'boleto_Business'}\n",
      "0.8752566471614824\n",
      "0.8752309824453341\n",
      "\n",
      "Columa sacada: {'boleto_Eco'}\n",
      "Columnas utilzadas: \n",
      " {'Cleanliness', 'viaje_Personal Travel', 'On-board service', 'gender_Female', 'Age', 'Departure Delay in Minutes', 'Food and drink', 'Online boarding', 'boleto_Eco Plus', 'gender_Male', 'Ease of Online booking', 'Baggage handling', 'Leg room service', 'cliente_Loyal Customer', 'viaje_Business travel', 'Checkin service', 'Flight Distance', 'cliente_disloyal Customer', 'Arrival Delay in Minutes', 'Seat comfort', 'Inflight wifi service', 'Inflight entertainment', 'Inflight service', 'Gate location', 'Departure/Arrival time convenient', 'boleto_Business'}\n",
      "0.8749486705677035\n",
      "0.8760009239297813\n",
      "\n",
      "Columa sacada: {'Arrival Delay in Minutes'}\n",
      "Columnas utilzadas: \n",
      " {'Cleanliness', 'viaje_Personal Travel', 'On-board service', 'gender_Female', 'Age', 'Departure Delay in Minutes', 'boleto_Eco', 'Food and drink', 'Online boarding', 'boleto_Eco Plus', 'gender_Male', 'Ease of Online booking', 'Baggage handling', 'Leg room service', 'cliente_Loyal Customer', 'viaje_Business travel', 'Checkin service', 'Flight Distance', 'cliente_disloyal Customer', 'Seat comfort', 'Inflight wifi service', 'Inflight entertainment', 'Inflight service', 'Gate location', 'Departure/Arrival time convenient', 'boleto_Business'}\n",
      "0.8746535263319988\n",
      "0.875423467816446\n",
      "\n",
      "Columa sacada: {'Inflight wifi service'}\n",
      "Columnas utilzadas: \n",
      " {'Cleanliness', 'viaje_Personal Travel', 'On-board service', 'gender_Female', 'Age', 'Departure Delay in Minutes', 'boleto_Eco', 'Food and drink', 'Online boarding', 'boleto_Eco Plus', 'gender_Male', 'Ease of Online booking', 'Baggage handling', 'Leg room service', 'cliente_Loyal Customer', 'viaje_Business travel', 'Checkin service', 'Flight Distance', 'cliente_disloyal Customer', 'Arrival Delay in Minutes', 'Seat comfort', 'Inflight entertainment', 'Inflight service', 'Gate location', 'Departure/Arrival time convenient', 'boleto_Business'}\n",
      "0.8704316805256134\n",
      "0.8715737603942101\n",
      "\n",
      "Columa sacada: {'Online boarding'}\n",
      "Columnas utilzadas: \n",
      " {'Cleanliness', 'viaje_Personal Travel', 'On-board service', 'gender_Female', 'Age', 'Departure Delay in Minutes', 'boleto_Eco', 'Food and drink', 'boleto_Eco Plus', 'gender_Male', 'Ease of Online booking', 'Baggage handling', 'Leg room service', 'cliente_Loyal Customer', 'viaje_Business travel', 'Checkin service', 'Flight Distance', 'cliente_disloyal Customer', 'Arrival Delay in Minutes', 'Seat comfort', 'Inflight wifi service', 'Inflight entertainment', 'Inflight service', 'Gate location', 'Departure/Arrival time convenient', 'boleto_Business'}\n",
      "0.8626552715326968\n",
      "0.8633738835848476\n",
      "\n",
      "Columa sacada: {'Inflight entertainment'}\n",
      "Columnas utilzadas: \n",
      " {'Cleanliness', 'viaje_Personal Travel', 'On-board service', 'gender_Female', 'Age', 'Departure Delay in Minutes', 'boleto_Eco', 'Food and drink', 'Online boarding', 'boleto_Eco Plus', 'gender_Male', 'Ease of Online booking', 'Baggage handling', 'Leg room service', 'cliente_Loyal Customer', 'viaje_Business travel', 'Checkin service', 'Flight Distance', 'cliente_disloyal Customer', 'Arrival Delay in Minutes', 'Seat comfort', 'Inflight wifi service', 'Inflight service', 'Gate location', 'Departure/Arrival time convenient', 'boleto_Business'}\n",
      "0.8751668206549635\n",
      "0.8756159531875577\n",
      "\n",
      "Columa sacada: {'cliente_Loyal Customer'}\n",
      "Columnas utilzadas: \n",
      " {'Cleanliness', 'viaje_Personal Travel', 'On-board service', 'gender_Female', 'Age', 'Departure Delay in Minutes', 'boleto_Eco', 'Food and drink', 'Online boarding', 'boleto_Eco Plus', 'gender_Male', 'Ease of Online booking', 'Baggage handling', 'Leg room service', 'viaje_Business travel', 'Checkin service', 'Flight Distance', 'cliente_disloyal Customer', 'Arrival Delay in Minutes', 'Seat comfort', 'Inflight wifi service', 'Inflight entertainment', 'Inflight service', 'Gate location', 'Departure/Arrival time convenient', 'boleto_Business'}\n",
      "0.8749486705677035\n",
      "0.875962426855559\n",
      "\n"
     ]
    }
   ],
   "source": [
    "for i in var_a_sacar_lr:\n",
    "    conjunto = {i}\n",
    "    print(\"Columa sacada:\", conjunto)\n",
    "    cols = columnas_lr - conjunto\n",
    "    print('Columnas utilzadas: \\n',cols)\n",
    "    knn = KNeighborsClassifier(n_neighbors=5)\n",
    "    X_train = dftrain.loc[:,cols]\n",
    "    y_train = dftrain[\"satis_neutral or dissatisfied\"]\n",
    "    X_train, X_test, y_train, y_test = train_test_split(X_train, y_train, random_state = 0)\n",
    "    # Estandarizamos los datos para que la regularización sea correcta\n",
    "    scaler = StandardScaler()\n",
    "    X_train_std = scaler.fit_transform(X_train)\n",
    "    X_test_std = scaler.transform(X_test)\n",
    "    #Instanciamos un objeto de la clase\n",
    "    lr = LogisticRegression()\n",
    "    lr.fit(X_train_std, y_train)\n",
    "    y_pred = lr.predict(X_test_std)\n",
    "    print(accuracy_score(y_train, lr.predict(X_train_std)))\n",
    "    print(accuracy_score(y_test, y_pred))\n",
    "    print()"
   ]
  }
 ],
 "metadata": {
  "kernelspec": {
   "display_name": "Python 3",
   "language": "python",
   "name": "python3"
  },
  "language_info": {
   "codemirror_mode": {
    "name": "ipython",
    "version": 3
   },
   "file_extension": ".py",
   "mimetype": "text/x-python",
   "name": "python",
   "nbconvert_exporter": "python",
   "pygments_lexer": "ipython3",
   "version": "3.7.7"
  }
 },
 "nbformat": 4,
 "nbformat_minor": 4
}
